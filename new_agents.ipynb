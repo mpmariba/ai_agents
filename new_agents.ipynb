{
 "cells": [
  {
   "cell_type": "code",
   "execution_count": 4,
   "id": "5176d20c",
   "metadata": {},
   "outputs": [
    {
     "name": "stdout",
     "output_type": "stream",
     "text": [
      "Collecting ace_tools\n",
      "  Downloading ace_tools-0.0-py3-none-any.whl (1.1 kB)\n",
      "Installing collected packages: ace-tools\n",
      "Successfully installed ace-tools-0.0\n"
     ]
    }
   ],
   "source": [
    "!pip install ace_tools"
   ]
  },
  {
   "cell_type": "code",
   "execution_count": 277,
   "id": "8e112f42",
   "metadata": {},
   "outputs": [],
   "source": [
    "# Re-import after code state reset\n",
    "from faker import Faker\n",
    "import pandas as pd\n",
    "import sqlite3\n",
    "import uuid\n",
    "import random\n",
    "from datetime import datetime\n",
    "\n",
    "# Initialize Faker\n",
    "fake = Faker()\n",
    "\n",
    "# Generate synthetic customer data\n",
    "def generate_customers(n=70):\n",
    "    data = []\n",
    "    for _ in range(n):\n",
    "        customer = {\n",
    "            \"id\": str(uuid.uuid4()),\n",
    "            \"full_name\": fake.name(),\n",
    "            \"email\": fake.email(),\n",
    "            \"phone_number\": fake.phone_number(),\n",
    "            \"address\": fake.address().replace(\"\\n\", \", \"),\n",
    "            \"account_number\": fake.unique.bban(),\n",
    "            \"account_type\": random.choice([\"Savings\", \"Cheque\", \"Business\"]),\n",
    "            \"balance\": round(random.uniform(100.0, 50000.0), 2),\n",
    "            \"loan_eligible\": random.choice([True, False]),\n",
    "            \"loan_amount\": round(random.uniform(0.0, 200000.0), 2),\n",
    "            \"last_login\": fake.date_time_between(start_date=\"-1y\", end_date=\"now\").strftime(\"%Y-%m-%d %H:%M:%S\"),\n",
    "        }\n",
    "        data.append(customer)\n",
    "    return pd.DataFrame(data)\n",
    "\n",
    "# Generate the data\n",
    "df_customers = generate_customers()\n",
    "\n",
    "# Save to SQLite database in the Jupyter environment\n",
    "conn = sqlite3.connect(\"local_customers.db\")\n",
    "df_customers.to_sql(\"customers\", conn, index=False, if_exists=\"replace\")\n",
    "conn.commit()\n",
    "conn.close()\n",
    "\n",
    "# import ace_tools as tools; tools.display_dataframe_to_user(name=\"Local Synthetic Customer Data\", dataframe=df_customers)\n"
   ]
  },
  {
   "cell_type": "code",
   "execution_count": 278,
   "id": "42bcf169",
   "metadata": {},
   "outputs": [
    {
     "data": {
      "text/html": [
       "<div>\n",
       "<style scoped>\n",
       "    .dataframe tbody tr th:only-of-type {\n",
       "        vertical-align: middle;\n",
       "    }\n",
       "\n",
       "    .dataframe tbody tr th {\n",
       "        vertical-align: top;\n",
       "    }\n",
       "\n",
       "    .dataframe thead th {\n",
       "        text-align: right;\n",
       "    }\n",
       "</style>\n",
       "<table border=\"1\" class=\"dataframe\">\n",
       "  <thead>\n",
       "    <tr style=\"text-align: right;\">\n",
       "      <th></th>\n",
       "      <th>id</th>\n",
       "      <th>full_name</th>\n",
       "      <th>email</th>\n",
       "      <th>phone_number</th>\n",
       "      <th>address</th>\n",
       "      <th>account_number</th>\n",
       "      <th>account_type</th>\n",
       "      <th>balance</th>\n",
       "      <th>loan_eligible</th>\n",
       "      <th>loan_amount</th>\n",
       "      <th>last_login</th>\n",
       "    </tr>\n",
       "  </thead>\n",
       "  <tbody>\n",
       "    <tr>\n",
       "      <th>0</th>\n",
       "      <td>000bf41d-edad-461d-bcbc-1b083255e996</td>\n",
       "      <td>Michael Bell</td>\n",
       "      <td>cassidy38@example.com</td>\n",
       "      <td>380-632-3208</td>\n",
       "      <td>6424 Katherine Plaza, Lisafort, TX 88492</td>\n",
       "      <td>WVTZ78468039103514</td>\n",
       "      <td>Cheque</td>\n",
       "      <td>14137.05</td>\n",
       "      <td>False</td>\n",
       "      <td>87573.25</td>\n",
       "      <td>2024-09-04 01:09:16</td>\n",
       "    </tr>\n",
       "    <tr>\n",
       "      <th>1</th>\n",
       "      <td>1cf22e94-ef93-4cb6-9dc7-98fae1ca1385</td>\n",
       "      <td>Rachel Shields</td>\n",
       "      <td>normancunningham@example.com</td>\n",
       "      <td>384.366.1254x58342</td>\n",
       "      <td>6631 Zavala Forges Suite 346, Mclaughlinbury, ...</td>\n",
       "      <td>UVIN18245880129599</td>\n",
       "      <td>Cheque</td>\n",
       "      <td>26916.94</td>\n",
       "      <td>False</td>\n",
       "      <td>180095.17</td>\n",
       "      <td>2024-06-06 08:31:40</td>\n",
       "    </tr>\n",
       "    <tr>\n",
       "      <th>2</th>\n",
       "      <td>1d8e2aab-bb19-4c31-aceb-2a499b43460e</td>\n",
       "      <td>Tara Griffin</td>\n",
       "      <td>santospaul@example.com</td>\n",
       "      <td>+1-344-756-6556x60846</td>\n",
       "      <td>29134 Lawrence Ferry Suite 904, Loweryville, S...</td>\n",
       "      <td>OUFV22504658577747</td>\n",
       "      <td>Savings</td>\n",
       "      <td>8358.30</td>\n",
       "      <td>True</td>\n",
       "      <td>181958.95</td>\n",
       "      <td>2024-06-29 16:27:09</td>\n",
       "    </tr>\n",
       "    <tr>\n",
       "      <th>3</th>\n",
       "      <td>8491bdbd-efa9-4609-b126-98c6a489a221</td>\n",
       "      <td>Keith French</td>\n",
       "      <td>contrerasmaxwell@example.org</td>\n",
       "      <td>+1-354-920-5110x3755</td>\n",
       "      <td>94475 Jennifer Port, Port Matthewport, DC 86648</td>\n",
       "      <td>IVYR85652857633441</td>\n",
       "      <td>Business</td>\n",
       "      <td>21866.51</td>\n",
       "      <td>True</td>\n",
       "      <td>12203.69</td>\n",
       "      <td>2024-11-11 01:16:21</td>\n",
       "    </tr>\n",
       "    <tr>\n",
       "      <th>4</th>\n",
       "      <td>0aecaab0-f5ea-44fe-b469-bef30c84bee2</td>\n",
       "      <td>Laura Jones</td>\n",
       "      <td>duffynicole@example.com</td>\n",
       "      <td>001-772-826-1239x8143</td>\n",
       "      <td>3245 Donald Land Apt. 878, Sierraton, KS 28325</td>\n",
       "      <td>LOPH47571453162501</td>\n",
       "      <td>Cheque</td>\n",
       "      <td>16331.49</td>\n",
       "      <td>True</td>\n",
       "      <td>178752.80</td>\n",
       "      <td>2025-04-29 09:02:26</td>\n",
       "    </tr>\n",
       "  </tbody>\n",
       "</table>\n",
       "</div>"
      ],
      "text/plain": [
       "                                     id       full_name   \n",
       "0  000bf41d-edad-461d-bcbc-1b083255e996    Michael Bell  \\\n",
       "1  1cf22e94-ef93-4cb6-9dc7-98fae1ca1385  Rachel Shields   \n",
       "2  1d8e2aab-bb19-4c31-aceb-2a499b43460e    Tara Griffin   \n",
       "3  8491bdbd-efa9-4609-b126-98c6a489a221    Keith French   \n",
       "4  0aecaab0-f5ea-44fe-b469-bef30c84bee2     Laura Jones   \n",
       "\n",
       "                          email           phone_number   \n",
       "0         cassidy38@example.com           380-632-3208  \\\n",
       "1  normancunningham@example.com     384.366.1254x58342   \n",
       "2        santospaul@example.com  +1-344-756-6556x60846   \n",
       "3  contrerasmaxwell@example.org   +1-354-920-5110x3755   \n",
       "4       duffynicole@example.com  001-772-826-1239x8143   \n",
       "\n",
       "                                             address      account_number   \n",
       "0           6424 Katherine Plaza, Lisafort, TX 88492  WVTZ78468039103514  \\\n",
       "1  6631 Zavala Forges Suite 346, Mclaughlinbury, ...  UVIN18245880129599   \n",
       "2  29134 Lawrence Ferry Suite 904, Loweryville, S...  OUFV22504658577747   \n",
       "3    94475 Jennifer Port, Port Matthewport, DC 86648  IVYR85652857633441   \n",
       "4     3245 Donald Land Apt. 878, Sierraton, KS 28325  LOPH47571453162501   \n",
       "\n",
       "  account_type   balance  loan_eligible  loan_amount           last_login  \n",
       "0       Cheque  14137.05          False     87573.25  2024-09-04 01:09:16  \n",
       "1       Cheque  26916.94          False    180095.17  2024-06-06 08:31:40  \n",
       "2      Savings   8358.30           True    181958.95  2024-06-29 16:27:09  \n",
       "3     Business  21866.51           True     12203.69  2024-11-11 01:16:21  \n",
       "4       Cheque  16331.49           True    178752.80  2025-04-29 09:02:26  "
      ]
     },
     "execution_count": 278,
     "metadata": {},
     "output_type": "execute_result"
    }
   ],
   "source": [
    "df_customers.head()"
   ]
  },
  {
   "cell_type": "markdown",
   "id": "3d753bf4",
   "metadata": {},
   "source": [
    "# Functions to be called"
   ]
  },
  {
   "cell_type": "code",
   "execution_count": 279,
   "id": "20fd5635",
   "metadata": {},
   "outputs": [
    {
     "data": {
      "text/plain": [
       "'Database connection and utility functions are set up. Ready for GPT chatbot integration.'"
      ]
     },
     "execution_count": 279,
     "metadata": {},
     "output_type": "execute_result"
    }
   ],
   "source": [
    "# Step 1: Set up database connection for reuse\n",
    "import sqlite3\n",
    "\n",
    "# Connect to the local SQLite DB\n",
    "db_path = \"local_customers.db\"\n",
    "conn = sqlite3.connect(db_path)\n",
    "cursor = conn.cursor()\n",
    "\n",
    "# # Function to check if a customer exists by ID or account number\n",
    "# def get_customer_by_id_or_account(identifier):\n",
    "#     query = \"\"\"\n",
    "#     SELECT * FROM customers WHERE id = ? OR account_number = ?\n",
    "#     \"\"\"\n",
    "#     cursor.execute(query, (identifier, identifier))\n",
    "    \n",
    "#     result = cursor.fetchone()\n",
    "#     if result:\n",
    "#         columns = [column[0] for column in cursor.description]\n",
    "#         return dict(zip(columns, result))\n",
    "#     return None\n",
    "\n",
    "\n",
    "# Function to update customer details\n",
    "def update_customer_detail(identifier, field, new_value):\n",
    "    query = f\"\"\"\n",
    "    UPDATE customers SET {field} = ? WHERE id = ? OR account_number = ?\n",
    "    \"\"\"\n",
    "    cursor.execute(query, (new_value, identifier, identifier))\n",
    "    conn.commit()\n",
    "    return cursor.rowcount > 0\n",
    "\n",
    "# Confirm that everything is ready\n",
    "\"Database connection and utility functions are set up. Ready for GPT chatbot integration.\"\n"
   ]
  },
  {
   "cell_type": "markdown",
   "id": "c9ee191c",
   "metadata": {},
   "source": [
    "# First Agent"
   ]
  },
  {
   "cell_type": "code",
   "execution_count": 5,
   "id": "c5023793",
   "metadata": {},
   "outputs": [],
   "source": [
    "import openai\n",
    "import os\n",
    "from openai import OpenAI\n",
    "\n",
    "from dotenv import load_dotenv, find_dotenv\n",
    "_ = load_dotenv(find_dotenv()) \n",
    "openai.api_key = os.getenv(\"OPENAI_API_KEY\")"
   ]
  },
  {
   "cell_type": "code",
   "execution_count": 6,
   "id": "44e04145",
   "metadata": {},
   "outputs": [],
   "source": [
    "client = OpenAI(\n",
    "    api_key=os.environ.get(\"OPENAI_API_KEY\"),\n",
    ")"
   ]
  },
  {
   "cell_type": "code",
   "execution_count": 13,
   "id": "fce08d4d",
   "metadata": {},
   "outputs": [
    {
     "data": {
      "text/plain": [
       "'Chat setup complete. Ready to simulate a conversation.'"
      ]
     },
     "execution_count": 13,
     "metadata": {},
     "output_type": "execute_result"
    }
   ],
   "source": [
    "# Define the system prompt for the update agent\n",
    "update_prompt = \"\"\"\n",
    "You are a helpful and friendly banking assistant chatbot.\n",
    "Your job is to help users update their personal information: full name, phone number, or address.\n",
    "\n",
    "Always begin by asking the user to provide their ID or account number.\n",
    "\n",
    "Once you have the ID:\n",
    "- Call a function to check if the user exists.\n",
    "- If the user is found, ask what they want to update.\n",
    "- Then ask for the new value.\n",
    "- Call the update function and confirm the update.\n",
    "\n",
    "Keep the tone professional, polite, and clear.\n",
    "\"\"\"\n",
    "\n",
    "# Sample conversation simulation using OpenAI ChatCompletion\n",
    "def ask_gpt_4o(user_message, chat_history=[]):\n",
    "    \n",
    "    messages = [{\"role\": \"system\", \"content\": update_prompt}] + chat_history\n",
    "    messages.append({\"role\": \"user\", \"content\": user_message})\n",
    "\n",
    "    response = client.responses.create(\n",
    "        model=\"gpt-4o-mini\",  \n",
    "        instructions=update_prompt,\n",
    "        input = user_message,\n",
    "        temperature=0.0\n",
    "    )\n",
    "    \n",
    "    return response.output_text, messages\n",
    "\n",
    "\"Chat setup complete. Ready to simulate a conversation.\"\n"
   ]
  },
  {
   "cell_type": "code",
   "execution_count": 14,
   "id": "8e2a63c4",
   "metadata": {},
   "outputs": [
    {
     "data": {
      "text/plain": [
       "'Sure! To get started, could you please provide your ID or account number?'"
      ]
     },
     "execution_count": 14,
     "metadata": {},
     "output_type": "execute_result"
    }
   ],
   "source": [
    "first_reply, history = ask_gpt_4o(\"Hi, I want to update my phone number.\")\n",
    "first_reply"
   ]
  },
  {
   "cell_type": "code",
   "execution_count": 15,
   "id": "fa0aa329",
   "metadata": {
    "scrolled": true
   },
   "outputs": [
    {
     "data": {
      "text/plain": [
       "[{'role': 'system',\n",
       "  'content': '\\nYou are a helpful and friendly banking assistant chatbot.\\nYour job is to help users update their personal information: full name, phone number, or address.\\n\\nAlways begin by asking the user to provide their ID or account number.\\n\\nOnce you have the ID:\\n- Call a function to check if the user exists.\\n- If the user is found, ask what they want to update.\\n- Then ask for the new value.\\n- Call the update function and confirm the update.\\n\\nKeep the tone professional, polite, and clear.\\n'},\n",
       " {'role': 'user', 'content': 'Hi, I want to update my phone number.'}]"
      ]
     },
     "execution_count": 15,
     "metadata": {},
     "output_type": "execute_result"
    }
   ],
   "source": [
    "history"
   ]
  },
  {
   "cell_type": "code",
   "execution_count": null,
   "id": "b69c111e",
   "metadata": {},
   "outputs": [],
   "source": []
  },
  {
   "cell_type": "markdown",
   "id": "aec4c7ff",
   "metadata": {},
   "source": [
    "# Get balance agent"
   ]
  },
  {
   "cell_type": "code",
   "execution_count": 139,
   "id": "92aa3611",
   "metadata": {},
   "outputs": [],
   "source": [
    "import os\n",
    "import json\n",
    "import sqlite3\n",
    "from openai import OpenAI\n",
    "\n",
    "from dotenv import load_dotenv\n",
    "\n",
    "# ─── Load API Key ──────────────────────────────────────────────────────────────\n",
    "_ = load_dotenv() \n",
    "client = OpenAI(api_key=os.getenv(\"OPENAI_API_KEY\"))\n",
    "\n",
    "# ─── Your balance‐checking function ───────────────────────────────────────────\n",
    "def get_balance_from_db(customer_id: str) -> dict:\n",
    "    \"\"\"\n",
    "    Query the local_customers.db for this customer_id \n",
    "    and return a dict with name & balance (or an error).\n",
    "    \"\"\"\n",
    "    conn = sqlite3.connect(\"local_customers.db\")\n",
    "    cur = conn.cursor()\n",
    "    cur.execute(\n",
    "        \"SELECT full_name, balance FROM customers WHERE id = ?\", \n",
    "        (customer_id,)\n",
    "    )\n",
    "    row = cur.fetchone()\n",
    "    conn.close()\n",
    "\n",
    "    if row:\n",
    "        return {\"found\": True, \"full_name\": row[0], \"balance\": row[1]}\n",
    "    else:\n",
    "        return {\"found\": False}\n",
    "            \n",
    "\n",
    "# ─── Tell GPT about your function ─────────────────────────────────────────────\n",
    "function_descriptions = [\n",
    "    {\n",
    "        \"type\": \"function\",\n",
    "        \"name\": \"get_balance\",\n",
    "        \"description\": \"Retrieve a customer's name and balance from the SQLite database\",\n",
    "        \"parameters\": {\n",
    "            \"type\": \"object\",\n",
    "            \"properties\": {\n",
    "                \"customer_id\": {\n",
    "                    \"type\": \"string\",\n",
    "                    \"description\": \"The ID of the customer\"\n",
    "                },\n",
    "#                 \"full_names\": {\n",
    "#                     \"type\": \"string\",\n",
    "#                     \"description\": \"Name of of the customer\"\n",
    "#                 }\n",
    "                \n",
    "            },\n",
    "            \"required\": [\"customer_id\"],\n",
    "        },\n",
    "    }\n",
    "]\n",
    "\n",
    "\n",
    "# ─── The system prompt you already wrote ──────────────────────────────────────\n",
    "balance_prompt = \"\"\"\n",
    "You are a helpful banking assistant. A user wants to check their account balance.\n",
    "\n",
    "Start by asking them for their account number or ID.\n",
    "\n",
    "Once you have the ID:\n",
    "- Check if the customer exists.\n",
    "- If yes, respond with their name and current balance.\n",
    "- If not, ask them to double-check.\n",
    "\n",
    "Only answer bank-related questions\n",
    "\n",
    "Keep your tone friendly and professional.\n",
    "\"\"\"\n"
   ]
  },
  {
   "cell_type": "code",
   "execution_count": 286,
   "id": "e60a4400",
   "metadata": {},
   "outputs": [
    {
     "data": {
      "text/plain": [
       "{'found': True, 'full_name': 'Michael Bell', 'balance': 14137.05}"
      ]
     },
     "execution_count": 286,
     "metadata": {},
     "output_type": "execute_result"
    }
   ],
   "source": [
    "get_balance_from_db('000bf41d-edad-461d-bcbc-1b083255e996')"
   ]
  },
  {
   "cell_type": "code",
   "execution_count": null,
   "id": "6c013171",
   "metadata": {},
   "outputs": [],
   "source": [
    "    input=[{\"role\": \"user\", \"content\": \"Can you find information about ChatGPT in the AI knowledge base?\"}],\n"
   ]
  },
  {
   "cell_type": "code",
   "execution_count": 297,
   "id": "fbb01bba",
   "metadata": {},
   "outputs": [],
   "source": [
    "def chat_with_openai(user_input):\n",
    "    \n",
    "    response = client.responses.create(\n",
    "            model=\"gpt-4o-mini\",\n",
    "            input = [{\"role\": \"user\", \"content\": user_input}],\n",
    "            \n",
    "            instructions = balance_prompt,\n",
    "            tools=function_descriptions,\n",
    "            tool_choice = \"auto\",\n",
    "            temperature = 0.0\n",
    "        )\n",
    "\n",
    "    # Return the chatbot's reply\n",
    "    return response ,response.output_text"
   ]
  },
  {
   "cell_type": "code",
   "execution_count": 274,
   "id": "219678e8",
   "metadata": {
    "collapsed": true
   },
   "outputs": [
    {
     "data": {
      "text/plain": [
       "(Response(id='resp_6829f82f455081918d745ea6995f10dc0b4202e786e48312', created_at=1747580975.0, error=None, incomplete_details=None, instructions='\\nYou are a helpful banking assistant. A user wants to check their account balance.\\n\\nStart by asking them for their account number or ID.\\n\\nOnce you have the ID:\\n- Check if the customer exists.\\n- If yes, respond with their name and current balance.\\n- If not, ask them to double-check.\\n\\nOnly answer bank-related questions\\n\\nKeep your tone friendly and professional.\\n', metadata={}, model='gpt-4o-mini-2024-07-18', object='response', output=[ResponseOutputMessage(id='msg_6829f82fd9708191bdd0ed240979a5d00b4202e786e48312', content=[ResponseOutputText(annotations=[], text='Hello! I can help you with that. Could you please provide me with your account number or ID?', type='output_text')], role='assistant', status='completed', type='message')], parallel_tool_calls=True, temperature=0.0, tool_choice='auto', tools=[FunctionTool(name='get_balance', parameters={'type': 'object', 'properties': {'customer_id': {'type': 'string', 'description': 'The ID of the customer'}}, 'required': ['customer_id']}, strict=True, type='function', description=\"Retrieve a customer's name and balance from the SQLite database\")], top_p=1.0, max_output_tokens=None, previous_response_id=None, reasoning=Reasoning(effort=None, generate_summary=None, summary=None), service_tier='default', status='completed', text=ResponseTextConfig(format=ResponseFormatText(type='text')), truncation='disabled', usage=ResponseUsage(input_tokens=136, input_tokens_details=InputTokensDetails(cached_tokens=0), output_tokens=23, output_tokens_details=OutputTokensDetails(reasoning_tokens=0), total_tokens=159), user=None, store=True),\n",
       " 'Hello! I can help you with that. Could you please provide me with your account number or ID?')"
      ]
     },
     "execution_count": 274,
     "metadata": {},
     "output_type": "execute_result"
    }
   ],
   "source": [
    "chat_with_openai('hi what is my account balance')"
   ]
  },
  {
   "cell_type": "code",
   "execution_count": 321,
   "id": "a485ca4e",
   "metadata": {},
   "outputs": [],
   "source": [
    "def chat_balance():\n",
    "    \n",
    "    print(\" Welcome! I'm your chatbot. Type 'exit' to end the chat.\\n\")\n",
    "\n",
    "    messages = [\n",
    "        {\"role\": \"system\", \"content\": balance_prompt}\n",
    "    ]\n",
    "\n",
    "    response = None\n",
    "    \n",
    "    while True:\n",
    "        \n",
    "        user_input = input(\"You: \")\n",
    "        \n",
    "        if \"exit\" in user_input.lower() or \"thank you\" in user_input.lower() or \"bye\" in user_input.lower():\n",
    "            print(\"Goodbye and have a nice day!\")\n",
    "            break\n",
    "\n",
    "        \n",
    "        response, bot_response = chat_with_openai(user_input)\n",
    "        print(f\"Bot: {bot_response}\\n\")\n",
    "        \n",
    "        messages.append({\"role\": \"user\", \"content\": user_input})\n",
    "\n",
    "\n",
    "        print(f\"clean response: {response}\")\n",
    "                \n",
    "                \n",
    "        if response:\n",
    "                \n",
    "                if response.tools[0].type != \"function\":\n",
    "                    continue\n",
    "\n",
    "                name = response.tools[0].name\n",
    "                print(f\"tool name: {name}\")\n",
    "\n",
    "#                 print(f\"args: {response.output[0].arguments}\")\n",
    "                \n",
    "                print(f\"type of output: type({type(response.output[0])}\")\n",
    "                \n",
    "                func_call = response.output[0]\n",
    "                output_str = str(func_call)\n",
    "                print(f\"output_str: {output_str}\")\n",
    "                \n",
    "                customer_id = output_str[52:88]\n",
    "                print(f\"customer_id: {customer_id}\")\n",
    "                \n",
    "\n",
    "                result = get_balance_from_db(customer_id)\n",
    "                \n",
    "                print(f\"sql results: {result}\")\n",
    "\n",
    "#     #             result = get_balance_from_db(args[\"properties\"][\"customer_id\"])\n",
    "\n",
    "#                 follow_up = client.responses.create(\n",
    "#                     model=\"gpt-4o-mini\",\n",
    "#                     input=messages,\n",
    "#                 )\n",
    "\n",
    "# #                 final_message = follow_up.choices[0].message.content\n",
    "#                 final_message = follow_up.output_text\n",
    "        \n",
    "#                 print(f\"Bot: {final_message}\\n\")\n",
    "\n",
    "#                 messages.append({\"role\": \"assistant\", \"content\": final_message})\n",
    "\n",
    "#                 messages.append(\n",
    "#                         {\n",
    "#                             \"role\": \"function\",\n",
    "#                             \"name\": name,\n",
    "#                             \"output\": json.dumps(result),\n",
    "#                         }\n",
    "#                     )\n",
    "        \n",
    "   \n",
    "\n",
    "\n"
   ]
  },
  {
   "cell_type": "code",
   "execution_count": 322,
   "id": "047f8297",
   "metadata": {},
   "outputs": [
    {
     "data": {
      "text/plain": [
       "36"
      ]
     },
     "execution_count": 322,
     "metadata": {},
     "output_type": "execute_result"
    }
   ],
   "source": [
    "len('000bf41d-edad-461d-bcbc-1b083255e996')"
   ]
  },
  {
   "cell_type": "code",
   "execution_count": 324,
   "id": "d6bf5886",
   "metadata": {},
   "outputs": [
    {
     "name": "stdout",
     "output_type": "stream",
     "text": [
      " Welcome! I'm your chatbot. Type 'exit' to end the chat.\n",
      "\n",
      "You: what is my account balance\n",
      "Bot: Could you please provide your account number or ID?\n",
      "\n",
      "clean response: Response(id='resp_682a36ac7f1c81918127ec8b427d5c67069e49daeb10cd98', created_at=1747596972.0, error=None, incomplete_details=None, instructions='\\nYou are a helpful banking assistant. A user wants to check their account balance.\\n\\nStart by asking them for their account number or ID.\\n\\nOnce you have the ID:\\n- Check if the customer exists.\\n- If yes, respond with their name and current balance.\\n- If not, ask them to double-check.\\n\\nOnly answer bank-related questions\\n\\nKeep your tone friendly and professional.\\n', metadata={}, model='gpt-4o-mini-2024-07-18', object='response', output=[ResponseOutputMessage(id='msg_682a36acdef48191a3ed00c1f3827e19069e49daeb10cd98', content=[ResponseOutputText(annotations=[], text='Could you please provide your account number or ID?', type='output_text')], role='assistant', status='completed', type='message')], parallel_tool_calls=True, temperature=0.0, tool_choice='auto', tools=[FunctionTool(name='get_balance', parameters={'type': 'object', 'properties': {'customer_id': {'type': 'string', 'description': 'The ID of the customer'}}, 'required': ['customer_id']}, strict=True, type='function', description=\"Retrieve a customer's name and balance from the SQLite database\")], top_p=1.0, max_output_tokens=None, previous_response_id=None, reasoning=Reasoning(effort=None, generate_summary=None, summary=None), service_tier='default', status='completed', text=ResponseTextConfig(format=ResponseFormatText(type='text')), truncation='disabled', usage=ResponseUsage(input_tokens=135, input_tokens_details=InputTokensDetails(cached_tokens=0), output_tokens=12, output_tokens_details=OutputTokensDetails(reasoning_tokens=0), total_tokens=147), user=None, store=True)\n",
      "tool name: get_balance\n",
      "type of output: type(<class 'openai.types.responses.response_output_message.ResponseOutputMessage'>\n",
      "output_str: ResponseOutputMessage(id='msg_682a36acdef48191a3ed00c1f3827e19069e49daeb10cd98', content=[ResponseOutputText(annotations=[], text='Could you please provide your account number or ID?', type='output_text')], role='assistant', status='completed', type='message')\n",
      "customer_id: c1f3827e19069e49daeb10cd98', content\n",
      "sql results: {'found': False}\n",
      "You: 1cf22e94-ef93-4cb6-9dc7-98fae1ca1385\n",
      "Bot: \n",
      "\n",
      "clean response: Response(id='resp_682a36bc80b48191808a829164b6b16003324d943957f1dd', created_at=1747596988.0, error=None, incomplete_details=None, instructions='\\nYou are a helpful banking assistant. A user wants to check their account balance.\\n\\nStart by asking them for their account number or ID.\\n\\nOnce you have the ID:\\n- Check if the customer exists.\\n- If yes, respond with their name and current balance.\\n- If not, ask them to double-check.\\n\\nOnly answer bank-related questions\\n\\nKeep your tone friendly and professional.\\n', metadata={}, model='gpt-4o-mini-2024-07-18', object='response', output=[ResponseFunctionToolCall(arguments='{\"customer_id\":\"1cf22e94-ef93-4cb6-9dc7-98fae1ca1385\"}', call_id='call_cEoKHBi81spD2fFYIB3KTLGt', name='get_balance', type='function_call', id='fc_682a36bcf8708191bf85c966c7d8eea503324d943957f1dd', status='completed')], parallel_tool_calls=True, temperature=0.0, tool_choice='auto', tools=[FunctionTool(name='get_balance', parameters={'type': 'object', 'properties': {'customer_id': {'type': 'string', 'description': 'The ID of the customer'}}, 'required': ['customer_id']}, strict=True, type='function', description=\"Retrieve a customer's name and balance from the SQLite database\")], top_p=1.0, max_output_tokens=None, previous_response_id=None, reasoning=Reasoning(effort=None, generate_summary=None, summary=None), service_tier='default', status='completed', text=ResponseTextConfig(format=ResponseFormatText(type='text')), truncation='disabled', usage=ResponseUsage(input_tokens=154, input_tokens_details=InputTokensDetails(cached_tokens=0), output_tokens=39, output_tokens_details=OutputTokensDetails(reasoning_tokens=0), total_tokens=193), user=None, store=True)\n",
      "tool name: get_balance\n",
      "type of output: type(<class 'openai.types.responses.response_function_tool_call.ResponseFunctionToolCall'>\n",
      "output_str: ResponseFunctionToolCall(arguments='{\"customer_id\":\"1cf22e94-ef93-4cb6-9dc7-98fae1ca1385\"}', call_id='call_cEoKHBi81spD2fFYIB3KTLGt', name='get_balance', type='function_call', id='fc_682a36bcf8708191bf85c966c7d8eea503324d943957f1dd', status='completed')\n",
      "customer_id: 1cf22e94-ef93-4cb6-9dc7-98fae1ca1385\n",
      "sql results: {'found': True, 'full_name': 'Rachel Shields', 'balance': 26916.94}\n"
     ]
    },
    {
     "ename": "KeyboardInterrupt",
     "evalue": "Interrupted by user",
     "output_type": "error",
     "traceback": [
      "\u001b[0;31m---------------------------------------------------------------------------\u001b[0m",
      "\u001b[0;31mKeyboardInterrupt\u001b[0m                         Traceback (most recent call last)",
      "\u001b[0;32m<ipython-input-324-d47afe905fe8>\u001b[0m in \u001b[0;36m<module>\u001b[0;34m\u001b[0m\n\u001b[0;32m----> 1\u001b[0;31m \u001b[0mchat_balance\u001b[0m\u001b[0;34m(\u001b[0m\u001b[0;34m)\u001b[0m\u001b[0;34m\u001b[0m\u001b[0;34m\u001b[0m\u001b[0m\n\u001b[0m",
      "\u001b[0;32m<ipython-input-321-8c07332978e3>\u001b[0m in \u001b[0;36mchat_balance\u001b[0;34m()\u001b[0m\n\u001b[1;32m     11\u001b[0m     \u001b[0;32mwhile\u001b[0m \u001b[0;32mTrue\u001b[0m\u001b[0;34m:\u001b[0m\u001b[0;34m\u001b[0m\u001b[0;34m\u001b[0m\u001b[0m\n\u001b[1;32m     12\u001b[0m \u001b[0;34m\u001b[0m\u001b[0m\n\u001b[0;32m---> 13\u001b[0;31m         \u001b[0muser_input\u001b[0m \u001b[0;34m=\u001b[0m \u001b[0minput\u001b[0m\u001b[0;34m(\u001b[0m\u001b[0;34m\"You: \"\u001b[0m\u001b[0;34m)\u001b[0m\u001b[0;34m\u001b[0m\u001b[0;34m\u001b[0m\u001b[0m\n\u001b[0m\u001b[1;32m     14\u001b[0m \u001b[0;34m\u001b[0m\u001b[0m\n\u001b[1;32m     15\u001b[0m         \u001b[0;32mif\u001b[0m \u001b[0;34m\"exit\"\u001b[0m \u001b[0;32min\u001b[0m \u001b[0muser_input\u001b[0m\u001b[0;34m.\u001b[0m\u001b[0mlower\u001b[0m\u001b[0;34m(\u001b[0m\u001b[0;34m)\u001b[0m \u001b[0;32mor\u001b[0m \u001b[0;34m\"thank you\"\u001b[0m \u001b[0;32min\u001b[0m \u001b[0muser_input\u001b[0m\u001b[0;34m.\u001b[0m\u001b[0mlower\u001b[0m\u001b[0;34m(\u001b[0m\u001b[0;34m)\u001b[0m \u001b[0;32mor\u001b[0m \u001b[0;34m\"bye\"\u001b[0m \u001b[0;32min\u001b[0m \u001b[0muser_input\u001b[0m\u001b[0;34m.\u001b[0m\u001b[0mlower\u001b[0m\u001b[0;34m(\u001b[0m\u001b[0;34m)\u001b[0m\u001b[0;34m:\u001b[0m\u001b[0;34m\u001b[0m\u001b[0;34m\u001b[0m\u001b[0m\n",
      "\u001b[0;32m~/opt/anaconda3/lib/python3.8/site-packages/ipykernel/kernelbase.py\u001b[0m in \u001b[0;36mraw_input\u001b[0;34m(self, prompt)\u001b[0m\n\u001b[1;32m    858\u001b[0m                 \u001b[0;34m\"raw_input was called, but this frontend does not support input requests.\"\u001b[0m\u001b[0;34m\u001b[0m\u001b[0;34m\u001b[0m\u001b[0m\n\u001b[1;32m    859\u001b[0m             )\n\u001b[0;32m--> 860\u001b[0;31m         return self._input_request(str(prompt),\n\u001b[0m\u001b[1;32m    861\u001b[0m             \u001b[0mself\u001b[0m\u001b[0;34m.\u001b[0m\u001b[0m_parent_ident\u001b[0m\u001b[0;34m,\u001b[0m\u001b[0;34m\u001b[0m\u001b[0;34m\u001b[0m\u001b[0m\n\u001b[1;32m    862\u001b[0m             \u001b[0mself\u001b[0m\u001b[0;34m.\u001b[0m\u001b[0m_parent_header\u001b[0m\u001b[0;34m,\u001b[0m\u001b[0;34m\u001b[0m\u001b[0;34m\u001b[0m\u001b[0m\n",
      "\u001b[0;32m~/opt/anaconda3/lib/python3.8/site-packages/ipykernel/kernelbase.py\u001b[0m in \u001b[0;36m_input_request\u001b[0;34m(self, prompt, ident, parent, password)\u001b[0m\n\u001b[1;32m    902\u001b[0m             \u001b[0;32mexcept\u001b[0m \u001b[0mKeyboardInterrupt\u001b[0m\u001b[0;34m:\u001b[0m\u001b[0;34m\u001b[0m\u001b[0;34m\u001b[0m\u001b[0m\n\u001b[1;32m    903\u001b[0m                 \u001b[0;31m# re-raise KeyboardInterrupt, to truncate traceback\u001b[0m\u001b[0;34m\u001b[0m\u001b[0;34m\u001b[0m\u001b[0;34m\u001b[0m\u001b[0m\n\u001b[0;32m--> 904\u001b[0;31m                 \u001b[0;32mraise\u001b[0m \u001b[0mKeyboardInterrupt\u001b[0m\u001b[0;34m(\u001b[0m\u001b[0;34m\"Interrupted by user\"\u001b[0m\u001b[0;34m)\u001b[0m \u001b[0;32mfrom\u001b[0m \u001b[0;32mNone\u001b[0m\u001b[0;34m\u001b[0m\u001b[0;34m\u001b[0m\u001b[0m\n\u001b[0m\u001b[1;32m    905\u001b[0m             \u001b[0;32mexcept\u001b[0m \u001b[0mException\u001b[0m \u001b[0;32mas\u001b[0m \u001b[0me\u001b[0m\u001b[0;34m:\u001b[0m\u001b[0;34m\u001b[0m\u001b[0;34m\u001b[0m\u001b[0m\n\u001b[1;32m    906\u001b[0m                 \u001b[0mself\u001b[0m\u001b[0;34m.\u001b[0m\u001b[0mlog\u001b[0m\u001b[0;34m.\u001b[0m\u001b[0mwarning\u001b[0m\u001b[0;34m(\u001b[0m\u001b[0;34m\"Invalid Message:\"\u001b[0m\u001b[0;34m,\u001b[0m \u001b[0mexc_info\u001b[0m\u001b[0;34m=\u001b[0m\u001b[0;32mTrue\u001b[0m\u001b[0;34m)\u001b[0m\u001b[0;34m\u001b[0m\u001b[0;34m\u001b[0m\u001b[0m\n",
      "\u001b[0;31mKeyboardInterrupt\u001b[0m: Interrupted by user"
     ]
    }
   ],
   "source": [
    "chat_balance()"
   ]
  },
  {
   "cell_type": "code",
   "execution_count": 294,
   "id": "0792abf0",
   "metadata": {},
   "outputs": [
    {
     "name": "stdout",
     "output_type": "stream",
     "text": [
      "[ResponseFunctionToolCall(arguments='{\"query\":\"ChatGPT\",\"options\":{\"num_results\":5,\"domain_filter\":\"AI\",\"sort_by\":\"relevance\"}}', call_id='call_oJ3ObPonrWOJcnsYFsySMdA8', name='search_knowledge_base', type='function_call', id='fc_682a23ebd0948191bd7bc9b3bf1637ae0dbb91dd3a8c57b0', status='completed')]\n",
      "test: {\"query\":\"ChatGPT\",\"options\":{\"num_results\":5,\"domain_filter\":\"AI\",\"sort_by\":\"relevance\"}}\n"
     ]
    }
   ],
   "source": [
    "from openai import OpenAI\n",
    "\n",
    "client = OpenAI()\n",
    "\n",
    "tools = [{\n",
    "    \"type\": \"function\",\n",
    "    \"name\": \"search_knowledge_base\",\n",
    "    \"description\": \"Query a knowledge base to retrieve relevant info on a topic.\",\n",
    "    \"parameters\": {\n",
    "        \"type\": \"object\",\n",
    "        \"properties\": {\n",
    "            \"query\": {\n",
    "                \"type\": \"string\",\n",
    "                \"description\": \"The user question or search query.\"\n",
    "            },\n",
    "            \"options\": {\n",
    "                \"type\": \"object\",\n",
    "                \"properties\": {\n",
    "                    \"num_results\": {\n",
    "                        \"type\": \"number\",\n",
    "                        \"description\": \"Number of top results to return.\"\n",
    "                    },\n",
    "                    \"domain_filter\": {\n",
    "                        \"type\": [\n",
    "                            \"string\",\n",
    "                            \"null\"\n",
    "                        ],\n",
    "                        \"description\": \"Optional domain to narrow the search (e.g. 'finance', 'medical'). Pass null if not needed.\"\n",
    "                    },\n",
    "                    \"sort_by\": {\n",
    "                        \"type\": [\n",
    "                            \"string\",\n",
    "                            \"null\"\n",
    "                        ],\n",
    "                        \"enum\": [\n",
    "                            \"relevance\",\n",
    "                            \"date\",\n",
    "                            \"popularity\",\n",
    "                            \"alphabetical\"\n",
    "                        ],\n",
    "                        \"description\": \"How to sort results. Pass null if not needed.\"\n",
    "                    }\n",
    "                },\n",
    "                \"required\": [\n",
    "                    \"num_results\",\n",
    "                    \"domain_filter\",\n",
    "                    \"sort_by\"\n",
    "                ],\n",
    "                \"additionalProperties\": False\n",
    "            }\n",
    "        },\n",
    "        \"required\": [\n",
    "            \"query\",\n",
    "            \"options\"\n",
    "        ],\n",
    "        \"additionalProperties\": False\n",
    "    }\n",
    "}]\n",
    "\n",
    "response = client.responses.create(\n",
    "    model=\"gpt-4.1\",\n",
    "    input=[{\"role\": \"user\", \"content\": \"Can you find information about ChatGPT in the AI knowledge base?\"}],\n",
    "    tools=tools\n",
    ")\n",
    "\n",
    "print(response.output)\n",
    "print(f\"test: {response.output[0].arguments}\")"
   ]
  },
  {
   "cell_type": "code",
   "execution_count": null,
   "id": "f5f1166b",
   "metadata": {},
   "outputs": [],
   "source": []
  }
 ],
 "metadata": {
  "kernelspec": {
   "display_name": "Python 3",
   "language": "python",
   "name": "python3"
  },
  "language_info": {
   "codemirror_mode": {
    "name": "ipython",
    "version": 3
   },
   "file_extension": ".py",
   "mimetype": "text/x-python",
   "name": "python",
   "nbconvert_exporter": "python",
   "pygments_lexer": "ipython3",
   "version": "3.8.8"
  }
 },
 "nbformat": 4,
 "nbformat_minor": 5
}
