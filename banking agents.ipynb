{
 "cells": [
  {
   "cell_type": "code",
   "execution_count": 4,
   "id": "5176d20c",
   "metadata": {},
   "outputs": [
    {
     "name": "stdout",
     "output_type": "stream",
     "text": [
      "Collecting ace_tools\n",
      "  Downloading ace_tools-0.0-py3-none-any.whl (1.1 kB)\n",
      "Installing collected packages: ace-tools\n",
      "Successfully installed ace-tools-0.0\n"
     ]
    }
   ],
   "source": [
    "!pip install ace_tools"
   ]
  },
  {
   "cell_type": "code",
   "execution_count": 1,
   "id": "8e112f42",
   "metadata": {},
   "outputs": [],
   "source": [
    "# Re-import after code state reset\n",
    "from faker import Faker\n",
    "import pandas as pd\n",
    "import sqlite3\n",
    "import uuid\n",
    "import random\n",
    "from datetime import datetime\n",
    "\n",
    "# Initialize Faker\n",
    "fake = Faker()\n",
    "\n",
    "# Generate synthetic customer data\n",
    "def generate_customers(n=70):\n",
    "    data = []\n",
    "    for _ in range(n):\n",
    "        customer = {\n",
    "            \"id\": str(uuid.uuid4()),\n",
    "            \"full_name\": fake.name(),\n",
    "            \"email\": fake.email(),\n",
    "            \"phone_number\": fake.phone_number(),\n",
    "            \"address\": fake.address().replace(\"\\n\", \", \"),\n",
    "            \"account_number\": fake.unique.bban(),\n",
    "            \"account_type\": random.choice([\"Savings\", \"Cheque\", \"Business\"]),\n",
    "            \"balance\": round(random.uniform(100.0, 50000.0), 2),\n",
    "            \"loan_eligible\": random.choice([True, False]),\n",
    "            \"loan_amount\": round(random.uniform(0.0, 200000.0), 2),\n",
    "            \"last_login\": fake.date_time_between(start_date=\"-1y\", end_date=\"now\").strftime(\"%Y-%m-%d %H:%M:%S\"),\n",
    "        }\n",
    "        data.append(customer)\n",
    "    return pd.DataFrame(data)\n",
    "\n",
    "# Generate the data\n",
    "df_customers = generate_customers()\n",
    "\n",
    "# Save to SQLite database in the Jupyter environment\n",
    "conn = sqlite3.connect(\"local_customers.db\")\n",
    "df_customers.to_sql(\"customers\", conn, index=False, if_exists=\"replace\")\n",
    "conn.commit()\n",
    "conn.close()\n",
    "\n",
    "# import ace_tools as tools; tools.display_dataframe_to_user(name=\"Local Synthetic Customer Data\", dataframe=df_customers)\n"
   ]
  },
  {
   "cell_type": "code",
   "execution_count": 2,
   "id": "42bcf169",
   "metadata": {},
   "outputs": [
    {
     "data": {
      "text/html": [
       "<div>\n",
       "<style scoped>\n",
       "    .dataframe tbody tr th:only-of-type {\n",
       "        vertical-align: middle;\n",
       "    }\n",
       "\n",
       "    .dataframe tbody tr th {\n",
       "        vertical-align: top;\n",
       "    }\n",
       "\n",
       "    .dataframe thead th {\n",
       "        text-align: right;\n",
       "    }\n",
       "</style>\n",
       "<table border=\"1\" class=\"dataframe\">\n",
       "  <thead>\n",
       "    <tr style=\"text-align: right;\">\n",
       "      <th></th>\n",
       "      <th>id</th>\n",
       "      <th>full_name</th>\n",
       "      <th>email</th>\n",
       "      <th>phone_number</th>\n",
       "      <th>address</th>\n",
       "      <th>account_number</th>\n",
       "      <th>account_type</th>\n",
       "      <th>balance</th>\n",
       "      <th>loan_eligible</th>\n",
       "      <th>loan_amount</th>\n",
       "      <th>last_login</th>\n",
       "    </tr>\n",
       "  </thead>\n",
       "  <tbody>\n",
       "    <tr>\n",
       "      <th>0</th>\n",
       "      <td>b5afabf4-4df1-49c9-afed-90bea1a7ac1b</td>\n",
       "      <td>Melissa Andrews</td>\n",
       "      <td>crawforddanielle@example.net</td>\n",
       "      <td>867.353.4688x27996</td>\n",
       "      <td>06151 Victoria Loop, Contrerasview, MD 06564</td>\n",
       "      <td>QXLP48139025131225</td>\n",
       "      <td>Business</td>\n",
       "      <td>27243.94</td>\n",
       "      <td>True</td>\n",
       "      <td>158429.05</td>\n",
       "      <td>2025-04-01 13:28:24</td>\n",
       "    </tr>\n",
       "    <tr>\n",
       "      <th>1</th>\n",
       "      <td>606a5eaf-a7a0-4eff-bdce-772492c45e62</td>\n",
       "      <td>Raymond Lopez</td>\n",
       "      <td>nsanford@example.org</td>\n",
       "      <td>001-337-372-4357x57156</td>\n",
       "      <td>9876 Cruz Light Apt. 755, Oscarview, VT 78768</td>\n",
       "      <td>QSFG85951003617626</td>\n",
       "      <td>Cheque</td>\n",
       "      <td>47982.47</td>\n",
       "      <td>False</td>\n",
       "      <td>85013.18</td>\n",
       "      <td>2024-11-02 13:45:25</td>\n",
       "    </tr>\n",
       "    <tr>\n",
       "      <th>2</th>\n",
       "      <td>5306071b-f337-48b2-8ff5-1d08ddb09f29</td>\n",
       "      <td>Christine Christensen</td>\n",
       "      <td>jonathan85@example.com</td>\n",
       "      <td>001-959-882-9643x95479</td>\n",
       "      <td>943 Mann Villages Apt. 214, Garciamouth, ND 46274</td>\n",
       "      <td>QFBC11725795535963</td>\n",
       "      <td>Business</td>\n",
       "      <td>15236.01</td>\n",
       "      <td>True</td>\n",
       "      <td>74324.20</td>\n",
       "      <td>2024-12-23 19:52:06</td>\n",
       "    </tr>\n",
       "    <tr>\n",
       "      <th>3</th>\n",
       "      <td>73927261-a2e7-4597-9b78-e041ad69a56a</td>\n",
       "      <td>Edward Bowen</td>\n",
       "      <td>sabrina95@example.net</td>\n",
       "      <td>884-451-4838</td>\n",
       "      <td>2079 Burton Overpass Suite 409, Vincentfort, M...</td>\n",
       "      <td>ODOU39338314118591</td>\n",
       "      <td>Business</td>\n",
       "      <td>43609.10</td>\n",
       "      <td>False</td>\n",
       "      <td>4464.72</td>\n",
       "      <td>2025-02-09 13:22:39</td>\n",
       "    </tr>\n",
       "    <tr>\n",
       "      <th>4</th>\n",
       "      <td>27b866d7-90d2-478e-b264-abfb598ca8bf</td>\n",
       "      <td>James Rodriguez</td>\n",
       "      <td>michaelespinoza@example.net</td>\n",
       "      <td>+1-578-223-6464x3873</td>\n",
       "      <td>958 Andrea Forks Apt. 694, Melissastad, ID 93779</td>\n",
       "      <td>EHWD87149665764245</td>\n",
       "      <td>Savings</td>\n",
       "      <td>14746.43</td>\n",
       "      <td>True</td>\n",
       "      <td>95142.21</td>\n",
       "      <td>2025-02-21 23:51:32</td>\n",
       "    </tr>\n",
       "  </tbody>\n",
       "</table>\n",
       "</div>"
      ],
      "text/plain": [
       "                                     id              full_name   \n",
       "0  b5afabf4-4df1-49c9-afed-90bea1a7ac1b        Melissa Andrews  \\\n",
       "1  606a5eaf-a7a0-4eff-bdce-772492c45e62          Raymond Lopez   \n",
       "2  5306071b-f337-48b2-8ff5-1d08ddb09f29  Christine Christensen   \n",
       "3  73927261-a2e7-4597-9b78-e041ad69a56a           Edward Bowen   \n",
       "4  27b866d7-90d2-478e-b264-abfb598ca8bf        James Rodriguez   \n",
       "\n",
       "                          email            phone_number   \n",
       "0  crawforddanielle@example.net      867.353.4688x27996  \\\n",
       "1          nsanford@example.org  001-337-372-4357x57156   \n",
       "2        jonathan85@example.com  001-959-882-9643x95479   \n",
       "3         sabrina95@example.net            884-451-4838   \n",
       "4   michaelespinoza@example.net    +1-578-223-6464x3873   \n",
       "\n",
       "                                             address      account_number   \n",
       "0       06151 Victoria Loop, Contrerasview, MD 06564  QXLP48139025131225  \\\n",
       "1      9876 Cruz Light Apt. 755, Oscarview, VT 78768  QSFG85951003617626   \n",
       "2  943 Mann Villages Apt. 214, Garciamouth, ND 46274  QFBC11725795535963   \n",
       "3  2079 Burton Overpass Suite 409, Vincentfort, M...  ODOU39338314118591   \n",
       "4   958 Andrea Forks Apt. 694, Melissastad, ID 93779  EHWD87149665764245   \n",
       "\n",
       "  account_type   balance  loan_eligible  loan_amount           last_login  \n",
       "0     Business  27243.94           True    158429.05  2025-04-01 13:28:24  \n",
       "1       Cheque  47982.47          False     85013.18  2024-11-02 13:45:25  \n",
       "2     Business  15236.01           True     74324.20  2024-12-23 19:52:06  \n",
       "3     Business  43609.10          False      4464.72  2025-02-09 13:22:39  \n",
       "4      Savings  14746.43           True     95142.21  2025-02-21 23:51:32  "
      ]
     },
     "execution_count": 2,
     "metadata": {},
     "output_type": "execute_result"
    }
   ],
   "source": [
    "df_customers.head()"
   ]
  },
  {
   "cell_type": "markdown",
   "id": "3d753bf4",
   "metadata": {},
   "source": [
    "# Functions to be called"
   ]
  },
  {
   "cell_type": "code",
   "execution_count": 3,
   "id": "20fd5635",
   "metadata": {},
   "outputs": [
    {
     "data": {
      "text/plain": [
       "'Database connection and utility functions are set up. Ready for GPT chatbot integration.'"
      ]
     },
     "execution_count": 3,
     "metadata": {},
     "output_type": "execute_result"
    }
   ],
   "source": [
    "# Step 1: Set up database connection for reuse\n",
    "import sqlite3\n",
    "\n",
    "# Connect to the local SQLite DB\n",
    "db_path = \"local_customers.db\"\n",
    "conn = sqlite3.connect(db_path)\n",
    "cursor = conn.cursor()\n",
    "\n",
    "# # Function to check if a customer exists by ID or account number\n",
    "# def get_customer_by_id_or_account(identifier):\n",
    "#     query = \"\"\"\n",
    "#     SELECT * FROM customers WHERE id = ? OR account_number = ?\n",
    "#     \"\"\"\n",
    "#     cursor.execute(query, (identifier, identifier))\n",
    "    \n",
    "#     result = cursor.fetchone()\n",
    "#     if result:\n",
    "#         columns = [column[0] for column in cursor.description]\n",
    "#         return dict(zip(columns, result))\n",
    "#     return None\n",
    "\n",
    "\n",
    "# Function to update customer details\n",
    "def update_customer_detail(identifier, field, new_value):\n",
    "    query = f\"\"\"\n",
    "    UPDATE customers SET {field} = ? WHERE id = ? OR account_number = ?\n",
    "    \"\"\"\n",
    "    cursor.execute(query, (new_value, identifier, identifier))\n",
    "    conn.commit()\n",
    "    return cursor.rowcount > 0\n",
    "\n",
    "# Confirm that everything is ready\n",
    "\"Database connection and utility functions are set up. Ready for GPT chatbot integration.\"\n"
   ]
  },
  {
   "cell_type": "markdown",
   "id": "c9ee191c",
   "metadata": {},
   "source": [
    "# First Agent"
   ]
  },
  {
   "cell_type": "code",
   "execution_count": 5,
   "id": "874f523b",
   "metadata": {},
   "outputs": [],
   "source": [
    "import openai\n",
    "import os\n",
    "from openai import OpenAI\n",
    "\n",
    "from dotenv import load_dotenv, find_dotenv\n",
    "_ = load_dotenv(find_dotenv()) \n",
    "openai.api_key = os.getenv(\"OPENAI_API_KEY\")"
   ]
  },
  {
   "cell_type": "code",
   "execution_count": 6,
   "id": "5fa2038f",
   "metadata": {},
   "outputs": [],
   "source": [
    "client = OpenAI(\n",
    "    # This is the default and can be omitted\n",
    "    api_key=os.environ.get(\"OPENAI_API_KEY\"),\n",
    ")"
   ]
  },
  {
   "cell_type": "code",
   "execution_count": 8,
   "id": "f2c6584d",
   "metadata": {},
   "outputs": [
    {
     "name": "stdout",
     "output_type": "stream",
     "text": [
      "Go be le mošate wa go bapalela diphoofolo, go na le mophato wa dikgomo le dihlare. Lere wa gagwe e be e le Kgabo. Kgabo o ne a rata dikgomo tša gagwe kudu, gomme a di kgathalela ka natla.\n",
      "\n",
      "Motsemogetse, Kgabo o ne a tsamaela dikgomo go etša go tšea metsi mo ngwageng. O ne a di fa sehlare se segolo sa ditlhare go senya mošate, mme a di fa metsi ka mehla. Le fa go ntse jalo, o ne a sitwa go fa dikgomo gae, ka lebaka la diphetho le mekgwa ya go tšwa morago.\n",
      "\n",
      "Le fa go ntse jalo, moletlo o ne o bala go tiisa motswako wa gagwe le borai ba go tlogela go tsena moetšeng. Ke nyakišiši ya go ahlaahlanya, a fa diphoofolo tša gagwe molemo go sebele le go di fa le malwetse a fosa.\n",
      "\n",
      "Ka lebaka la serapa se se kgolo, Kgabo o ne a makatša mo mokhoa wa gagwe wa go apola. O ne a fa dikgomo le sephiri sa gago, a fa dihlare. Dilo di be di le telele, empa Kgabo o ne a sa tshwenyehe, ka lebaka la boikokobetšo le tshegofatso ya gagwe.\n",
      "\n",
      "Dihlogong tša kgale, tselane ye ya dikgomo e ne e le senogwa; bjang o sa lefa go di fa kilo le dikhutlo. Le fa go ntse jalo, mošate wa Kgabo o ne o rulaganya go tiisa le go bulana.\n",
      "\n",
      "Le fa go bile le mathata, Kgabo o ne a kgetha go fa diphoofolo tše e le dipontho, a di fa mekgwa le boikobo ka natla. Go se ja tše di kgethegeng, o ne a mafa le dikhomo tša gagwe ka ntlo. Mo godimo ka ga gago, Kgabo o ne a kgetha go fedisa. O ne a itlhophela go šala mošate, le dibatana tša diithuti mo lekwang le go sebetsa ka metlha.\n",
      "\n",
      "Ka fao, Kgabo o ne a popa ebile a le moemedi wa mošate wa gagwe; o ne a na le borai le diraphuta go fa diphoofolo tše sengwe le se sengwe. Dikhomo tša gagwe di be di thopa mekgwa ya diphutsu.\n",
      "\n",
      "Le fa go ntse jalo, Kgabo o ile a loga le yane go matlafatsa mošate wa gagwe. Ka fao, dikgomo tša gagwe di be di mana le go phatlalatša, ebile di ne di tloga di etša go gapelela go phuthela mo lehelong. O ne a itlhophela go fa boikobo ba gagwe le borai le diphetheng. \n",
      "\n",
      "Ka bokhutlo, Kgabo o ne a tla be a bile le boikhutšo le khotso go tekanyetša mošate wa gagwe le diphoofolo. O ne a bona merafe le se se amanang le mekgwa ya go tlhamaletsa mošate yohle.\n"
     ]
    }
   ],
   "source": [
    "response = client.responses.create(\n",
    "    model=\"gpt-4o-mini\",\n",
    "    instructions=\"You are a story teller specialising in a south african language Sepedi. Respond only in sepedi\",\n",
    "    input=\"wite me a story of a sheppered looking after his cattles\",\n",
    ")\n",
    "\n",
    "print(response.output_text)"
   ]
  },
  {
   "cell_type": "code",
   "execution_count": 13,
   "id": "fce08d4d",
   "metadata": {},
   "outputs": [
    {
     "data": {
      "text/plain": [
       "'Chat setup complete. Ready to simulate a conversation.'"
      ]
     },
     "execution_count": 13,
     "metadata": {},
     "output_type": "execute_result"
    }
   ],
   "source": [
    "# Define the system prompt for the update agent\n",
    "update_prompt = \"\"\"\n",
    "You are a helpful and friendly banking assistant chatbot.\n",
    "Your job is to help users update their personal information: full name, phone number, or address.\n",
    "\n",
    "Always begin by asking the user to provide their ID or account number.\n",
    "\n",
    "Once you have the ID:\n",
    "- Call a function to check if the user exists.\n",
    "- If the user is found, ask what they want to update.\n",
    "- Then ask for the new value.\n",
    "- Call the update function and confirm the update.\n",
    "\n",
    "Keep the tone professional, polite, and clear.\n",
    "\"\"\"\n",
    "\n",
    "# Sample conversation simulation using OpenAI ChatCompletion\n",
    "def ask_gpt_4o(user_message, chat_history=[]):\n",
    "    \n",
    "    messages = [{\"role\": \"system\", \"content\": update_prompt}] + chat_history\n",
    "    messages.append({\"role\": \"user\", \"content\": user_message})\n",
    "\n",
    "    response = client.responses.create(\n",
    "        model=\"gpt-4o-mini\",  \n",
    "        instructions=update_prompt,\n",
    "        input = user_message,\n",
    "        temperature=0.0\n",
    "    )\n",
    "    return response.output_text, messages\n",
    "\n",
    "\"Chat setup complete. Ready to simulate a conversation.\"\n"
   ]
  },
  {
   "cell_type": "code",
   "execution_count": 14,
   "id": "8e2a63c4",
   "metadata": {},
   "outputs": [
    {
     "data": {
      "text/plain": [
       "'Sure! To get started, could you please provide your ID or account number?'"
      ]
     },
     "execution_count": 14,
     "metadata": {},
     "output_type": "execute_result"
    }
   ],
   "source": [
    "first_reply, history = ask_gpt_4o(\"Hi, I want to update my phone number.\")\n",
    "first_reply"
   ]
  },
  {
   "cell_type": "code",
   "execution_count": 15,
   "id": "fa0aa329",
   "metadata": {
    "scrolled": true
   },
   "outputs": [
    {
     "data": {
      "text/plain": [
       "[{'role': 'system',\n",
       "  'content': '\\nYou are a helpful and friendly banking assistant chatbot.\\nYour job is to help users update their personal information: full name, phone number, or address.\\n\\nAlways begin by asking the user to provide their ID or account number.\\n\\nOnce you have the ID:\\n- Call a function to check if the user exists.\\n- If the user is found, ask what they want to update.\\n- Then ask for the new value.\\n- Call the update function and confirm the update.\\n\\nKeep the tone professional, polite, and clear.\\n'},\n",
       " {'role': 'user', 'content': 'Hi, I want to update my phone number.'}]"
      ]
     },
     "execution_count": 15,
     "metadata": {},
     "output_type": "execute_result"
    }
   ],
   "source": [
    "history"
   ]
  },
  {
   "cell_type": "code",
   "execution_count": null,
   "id": "3b43a6a5",
   "metadata": {},
   "outputs": [],
   "source": [
    "from openai import OpenAI\n",
    "\n",
    "client = OpenAI()\n",
    "\n",
    "tools = [{\n",
    "    \"type\": \"function\",\n",
    "    \"name\": \"update_details\",\n",
    "    \"description\": \"Update details on sql database for a user\",\n",
    "    \"parameters\": {\n",
    "        \"type\": \"object\",\n",
    "        \"properties\": {\n",
    "            \"location\": {\n",
    "                \"type\": \"string\",\n",
    "                \"description\": \"City and country e.g. Bogotá, Colombia\"\n",
    "            }\n",
    "        }, \n",
    "        \"required\": [\n",
    "            \"location\"\n",
    "        ],\n",
    "        \"additionalProperties\": False\n",
    "    }\n",
    "}]\n",
    "\n",
    "\n",
    "response = client.responses.create(\n",
    "    model=\"gpt-4.1\",\n",
    "    input=[{\"role\": \"user\", \"content\": \"What is the weather like in Paris today?\"}],\n",
    "    tools=tools\n",
    ")\n",
    "\n",
    "print(response.output)"
   ]
  },
  {
   "cell_type": "code",
   "execution_count": null,
   "id": "f094534a",
   "metadata": {},
   "outputs": [],
   "source": []
  }
 ],
 "metadata": {
  "kernelspec": {
   "display_name": "Python 3",
   "language": "python",
   "name": "python3"
  },
  "language_info": {
   "codemirror_mode": {
    "name": "ipython",
    "version": 3
   },
   "file_extension": ".py",
   "mimetype": "text/x-python",
   "name": "python",
   "nbconvert_exporter": "python",
   "pygments_lexer": "ipython3",
   "version": "3.8.8"
  }
 },
 "nbformat": 4,
 "nbformat_minor": 5
}
