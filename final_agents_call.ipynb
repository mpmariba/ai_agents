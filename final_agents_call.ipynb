{
 "cells": [
  {
   "cell_type": "code",
   "execution_count": 1,
   "id": "5ed83af0",
   "metadata": {},
   "outputs": [],
   "source": [
    "# Re-import after code state reset\n",
    "from faker import Faker\n",
    "import pandas as pd\n",
    "import sqlite3\n",
    "import uuid\n",
    "import random\n",
    "from datetime import datetime\n",
    "\n",
    "# Initialize Faker\n",
    "fake = Faker()\n",
    "\n",
    "# Generate synthetic customer data\n",
    "def generate_customers(n=70):\n",
    "    data = []\n",
    "    for _ in range(n):\n",
    "        customer = {\n",
    "            \"id\": str(uuid.uuid4()),\n",
    "            \"full_name\": fake.name(),\n",
    "            \"email\": fake.email(),\n",
    "            \"phone_number\": fake.phone_number(),\n",
    "            \"address\": fake.address().replace(\"\\n\", \", \"),\n",
    "            \"account_number\": fake.unique.bban(),\n",
    "            \"account_type\": random.choice([\"Savings\", \"Cheque\", \"Business\"]),\n",
    "            \"balance\": round(random.uniform(100.0, 50000.0), 2),\n",
    "            \"loan_eligible\": random.choice([True, False]),\n",
    "            \"loan_amount\": round(random.uniform(0.0, 200000.0), 2),\n",
    "            \"last_login\": fake.date_time_between(start_date=\"-1y\", end_date=\"now\").strftime(\"%Y-%m-%d %H:%M:%S\"),\n",
    "        }\n",
    "        data.append(customer)\n",
    "    return pd.DataFrame(data)\n",
    "\n",
    "# Generate the data\n",
    "df_customers = generate_customers()\n",
    "\n",
    "# Save to SQLite database in the Jupyter environment\n",
    "conn = sqlite3.connect(\"local_customers.db\")\n",
    "df_customers.to_sql(\"customers\", conn, index=False, if_exists=\"replace\")\n",
    "conn.commit()\n",
    "conn.close()\n",
    "\n",
    "# import ace_tools as tools; tools.display_dataframe_to_user(name=\"Local Synthetic Customer Data\", dataframe=df_customers)\n"
   ]
  },
  {
   "cell_type": "code",
   "execution_count": 2,
   "id": "5111bfc8",
   "metadata": {},
   "outputs": [
    {
     "data": {
      "text/plain": [
       "'Database connection and utility functions are set up. Ready for GPT chatbot integration.'"
      ]
     },
     "execution_count": 2,
     "metadata": {},
     "output_type": "execute_result"
    }
   ],
   "source": [
    "# Step 1: Set up database connection for reuse\n",
    "import sqlite3\n",
    "\n",
    "# Connect to the local SQLite DB\n",
    "db_path = \"local_customers.db\"\n",
    "conn = sqlite3.connect(db_path)\n",
    "cursor = conn.cursor()\n",
    "\n",
    "\n",
    "# Function to update customer details\n",
    "def update_customer_detail(identifier, field, new_value):\n",
    "    query = f\"\"\"\n",
    "    UPDATE customers SET {field} = ? WHERE id = ? OR account_number = ?\n",
    "    \"\"\"\n",
    "    cursor.execute(query, (new_value, identifier, identifier))\n",
    "    conn.commit()\n",
    "    return cursor.rowcount > 0\n",
    "\n",
    "# Confirm that everything is ready\n",
    "\"Database connection and utility functions are set up. Ready for GPT chatbot integration.\"\n"
   ]
  },
  {
   "cell_type": "code",
   "execution_count": 12,
   "id": "b258dd80",
   "metadata": {},
   "outputs": [],
   "source": [
    "import openai\n",
    "import os\n",
    "from openai import OpenAI\n",
    "import json\n",
    "\n",
    "from dotenv import load_dotenv, find_dotenv\n",
    "_ = load_dotenv(find_dotenv()) \n",
    "openai.api_key = os.getenv(\"OPENAI_API_KEY\")"
   ]
  },
  {
   "cell_type": "code",
   "execution_count": 4,
   "id": "bb690cfd",
   "metadata": {},
   "outputs": [],
   "source": [
    "client = OpenAI(\n",
    "    # This is the default and can be omitted\n",
    "    api_key=os.environ.get(\"OPENAI_API_KEY\"),\n",
    ")"
   ]
  },
  {
   "cell_type": "markdown",
   "id": "b9141f93",
   "metadata": {},
   "source": [
    "# Sql functions"
   ]
  },
  {
   "cell_type": "code",
   "execution_count": 25,
   "id": "4df0c327",
   "metadata": {},
   "outputs": [],
   "source": [
    "def get_balance(customer_id: str) -> dict:\n",
    "    \"\"\"\n",
    "    Query the local_customers.db for this customer_id \n",
    "    and return a dict with name & balance (or an error).\n",
    "    \"\"\"\n",
    "    conn = sqlite3.connect(\"local_customers.db\")\n",
    "    cur = conn.cursor()\n",
    "    cur.execute(\n",
    "        \"SELECT full_name, balance FROM customers WHERE id = ?\", \n",
    "        (customer_id,)\n",
    "    )\n",
    "    row = cur.fetchone()\n",
    "    conn.close()\n",
    "\n",
    "    if row:\n",
    "        return {\"found\": True, \"full_name\": row[0], \"balance\": row[1]}\n",
    "    else:\n",
    "        return {\"found\": False}"
   ]
  },
  {
   "cell_type": "code",
   "execution_count": 103,
   "id": "9e1bcdf8",
   "metadata": {},
   "outputs": [
    {
     "data": {
      "text/html": [
       "<div>\n",
       "<style scoped>\n",
       "    .dataframe tbody tr th:only-of-type {\n",
       "        vertical-align: middle;\n",
       "    }\n",
       "\n",
       "    .dataframe tbody tr th {\n",
       "        vertical-align: top;\n",
       "    }\n",
       "\n",
       "    .dataframe thead th {\n",
       "        text-align: right;\n",
       "    }\n",
       "</style>\n",
       "<table border=\"1\" class=\"dataframe\">\n",
       "  <thead>\n",
       "    <tr style=\"text-align: right;\">\n",
       "      <th></th>\n",
       "      <th>id</th>\n",
       "      <th>full_name</th>\n",
       "      <th>email</th>\n",
       "      <th>phone_number</th>\n",
       "      <th>address</th>\n",
       "      <th>account_number</th>\n",
       "      <th>account_type</th>\n",
       "      <th>balance</th>\n",
       "      <th>loan_eligible</th>\n",
       "      <th>loan_amount</th>\n",
       "      <th>last_login</th>\n",
       "    </tr>\n",
       "  </thead>\n",
       "  <tbody>\n",
       "    <tr>\n",
       "      <th>0</th>\n",
       "      <td>bd9c5311-c8f8-441d-b205-e68fb7aa7293</td>\n",
       "      <td>Hayley Taylor</td>\n",
       "      <td>lindsayevans@example.com</td>\n",
       "      <td>240.730.7657</td>\n",
       "      <td>66873 Johns Station Apt. 951, New Cheryl, PW 8...</td>\n",
       "      <td>LSEJ75490545720505</td>\n",
       "      <td>Cheque</td>\n",
       "      <td>28221.70</td>\n",
       "      <td>True</td>\n",
       "      <td>62271.66</td>\n",
       "      <td>2024-09-01 07:44:23</td>\n",
       "    </tr>\n",
       "    <tr>\n",
       "      <th>1</th>\n",
       "      <td>4f8667b3-f381-44c4-8f3c-2a0718248284</td>\n",
       "      <td>Veronica Wilson</td>\n",
       "      <td>peggyhenderson@example.com</td>\n",
       "      <td>(933)323-1013x26794</td>\n",
       "      <td>492 Nunez Field, East Julia, MN 48082</td>\n",
       "      <td>HPJO70182321326256</td>\n",
       "      <td>Savings</td>\n",
       "      <td>1342.67</td>\n",
       "      <td>True</td>\n",
       "      <td>117454.65</td>\n",
       "      <td>2024-05-28 02:03:26</td>\n",
       "    </tr>\n",
       "    <tr>\n",
       "      <th>2</th>\n",
       "      <td>a217997d-21c3-4716-ac19-5d5c9950c260</td>\n",
       "      <td>Kim Taylor</td>\n",
       "      <td>aaronclark@example.org</td>\n",
       "      <td>2653847718</td>\n",
       "      <td>2615 Stewart View, Davilaside, MN 11472</td>\n",
       "      <td>PSRT26578460342140</td>\n",
       "      <td>Business</td>\n",
       "      <td>14389.60</td>\n",
       "      <td>False</td>\n",
       "      <td>117932.25</td>\n",
       "      <td>2025-03-31 13:01:01</td>\n",
       "    </tr>\n",
       "    <tr>\n",
       "      <th>3</th>\n",
       "      <td>b2ad5dfb-e86e-460d-9f98-3351c040e02f</td>\n",
       "      <td>Mr. Robert Nicholson</td>\n",
       "      <td>rebecca59@example.net</td>\n",
       "      <td>+1-988-303-9632x1080</td>\n",
       "      <td>Unit 9188 Box 7339, DPO AE 49110</td>\n",
       "      <td>XUWR46473567505370</td>\n",
       "      <td>Cheque</td>\n",
       "      <td>21475.10</td>\n",
       "      <td>True</td>\n",
       "      <td>175559.46</td>\n",
       "      <td>2024-10-03 14:58:24</td>\n",
       "    </tr>\n",
       "    <tr>\n",
       "      <th>4</th>\n",
       "      <td>9e5d54aa-168e-4347-8514-9ec8d1d5a470</td>\n",
       "      <td>Alicia Jones</td>\n",
       "      <td>anthonymurphy@example.com</td>\n",
       "      <td>798-968-5221x242</td>\n",
       "      <td>9544 Brown Island Apt. 484, Lake Calvin, ND 85959</td>\n",
       "      <td>JOXB12585286300382</td>\n",
       "      <td>Business</td>\n",
       "      <td>13290.37</td>\n",
       "      <td>True</td>\n",
       "      <td>168622.08</td>\n",
       "      <td>2025-03-09 22:31:15</td>\n",
       "    </tr>\n",
       "  </tbody>\n",
       "</table>\n",
       "</div>"
      ],
      "text/plain": [
       "                                     id             full_name   \n",
       "0  bd9c5311-c8f8-441d-b205-e68fb7aa7293         Hayley Taylor  \\\n",
       "1  4f8667b3-f381-44c4-8f3c-2a0718248284       Veronica Wilson   \n",
       "2  a217997d-21c3-4716-ac19-5d5c9950c260            Kim Taylor   \n",
       "3  b2ad5dfb-e86e-460d-9f98-3351c040e02f  Mr. Robert Nicholson   \n",
       "4  9e5d54aa-168e-4347-8514-9ec8d1d5a470          Alicia Jones   \n",
       "\n",
       "                        email          phone_number   \n",
       "0    lindsayevans@example.com          240.730.7657  \\\n",
       "1  peggyhenderson@example.com   (933)323-1013x26794   \n",
       "2      aaronclark@example.org            2653847718   \n",
       "3       rebecca59@example.net  +1-988-303-9632x1080   \n",
       "4   anthonymurphy@example.com      798-968-5221x242   \n",
       "\n",
       "                                             address      account_number   \n",
       "0  66873 Johns Station Apt. 951, New Cheryl, PW 8...  LSEJ75490545720505  \\\n",
       "1              492 Nunez Field, East Julia, MN 48082  HPJO70182321326256   \n",
       "2            2615 Stewart View, Davilaside, MN 11472  PSRT26578460342140   \n",
       "3                   Unit 9188 Box 7339, DPO AE 49110  XUWR46473567505370   \n",
       "4  9544 Brown Island Apt. 484, Lake Calvin, ND 85959  JOXB12585286300382   \n",
       "\n",
       "  account_type   balance  loan_eligible  loan_amount           last_login  \n",
       "0       Cheque  28221.70           True     62271.66  2024-09-01 07:44:23  \n",
       "1      Savings   1342.67           True    117454.65  2024-05-28 02:03:26  \n",
       "2     Business  14389.60          False    117932.25  2025-03-31 13:01:01  \n",
       "3       Cheque  21475.10           True    175559.46  2024-10-03 14:58:24  \n",
       "4     Business  13290.37           True    168622.08  2025-03-09 22:31:15  "
      ]
     },
     "execution_count": 103,
     "metadata": {},
     "output_type": "execute_result"
    }
   ],
   "source": [
    "df_customers.head()"
   ]
  },
  {
   "cell_type": "code",
   "execution_count": 108,
   "id": "7b6a67ac",
   "metadata": {},
   "outputs": [],
   "source": [
    "import sqlite3\n",
    "\n",
    "def get_loan_eligibility(customer_id: str) -> dict:\n",
    "    \"\"\"\n",
    "    Query the local_customers.db for this customer_id \n",
    "    and return a dict with eligibility, loan amount, and name.\n",
    "    \"\"\"\n",
    "    conn = sqlite3.connect(\"local_customers.db\")\n",
    "    cur = conn.cursor()\n",
    "    cur.execute(\n",
    "        \"SELECT full_name, loan_eligible, loan_amount FROM customers WHERE id = ?\", \n",
    "        (customer_id,)\n",
    "    )\n",
    "    row = cur.fetchone()\n",
    "    conn.close()\n",
    "\n",
    "    if row:\n",
    "        return {\n",
    "            \"found\": True,\n",
    "            \"full_name\": row[0],\n",
    "            \"eligible\": row[1],\n",
    "            \"max_loan_amount\": row[2]\n",
    "        }\n",
    "    else:\n",
    "        return {\"found\": False}\n"
   ]
  },
  {
   "cell_type": "markdown",
   "id": "31b33747",
   "metadata": {},
   "source": [
    "# Function calling"
   ]
  },
  {
   "cell_type": "code",
   "execution_count": 109,
   "id": "9b322b07",
   "metadata": {},
   "outputs": [],
   "source": [
    "function_descriptions = [{\n",
    "        \"type\": \"function\",\n",
    "        \"name\": \"get_balance\",\n",
    "        \"description\": \"Retrieve a customer's name and balance from the SQLite database\",\n",
    "        \"parameters\": {\n",
    "            \"type\": \"object\",\n",
    "            \"properties\": {\n",
    "                \"customer_id\": {\n",
    "                    \"type\": \"string\",\n",
    "                    \"description\": \"The ID of the customer for retrieving information from database\"\n",
    "                },\n",
    "                \n",
    "            },\n",
    "            \"required\": [\"customer_id\"],\n",
    "            \"additionalProperties\": False\n",
    "        },\n",
    "    },\n",
    "    {\n",
    "    \"type\": \"function\",\n",
    "    \"name\": \"get_loan_eligibility\",\n",
    "    \"description\": \"Check if a user qualifies for a loan and how much they qualify for\",\n",
    "    \"parameters\": {\n",
    "        \"type\": \"object\",\n",
    "        \"properties\": {\n",
    "            \"customer_id\": {\n",
    "                \"type\": \"string\",\n",
    "                \"description\": \"The unique ID of the customer\"\n",
    "            },\n",
    "            \"requested_amount\": {\n",
    "                \"type\": \"number\",\n",
    "                \"description\": \"The loan amount the customer wants to borrow\"\n",
    "            }\n",
    "        },\n",
    "        \"required\": [\"customer_id\", \"requested_amount\"]\n",
    "    }\n",
    "}]"
   ]
  },
  {
   "cell_type": "markdown",
   "id": "ba28ac0a",
   "metadata": {},
   "source": [
    "# Prompts"
   ]
  },
  {
   "cell_type": "code",
   "execution_count": 111,
   "id": "bba360b8",
   "metadata": {},
   "outputs": [],
   "source": [
    "combined_prompt = \"\"\"\n",
    "You are a friendly and helpful banking assistant.\n",
    "\n",
    "You can help users with two tasks:\n",
    "1. Checking their account balance.\n",
    "2. Applying for a loan.\n",
    "\n",
    "If the user wants to check their balance:\n",
    "- Ask for their customer ID.\n",
    "- Then call the balance function to retrieve their name and balance.\n",
    "- Respond directly to the user with their name and balance.\n",
    "\n",
    "If the user wants to apply for a loan:\n",
    "- Ask how much they want to borrow.\n",
    "- Then ask for their customer ID.\n",
    "- Call the loan eligibility function to check if they qualify and how much they qualify for.\n",
    "- If they qualify for the requested amount, respond like: \"Hi [Name], you qualify for a loan of R[amount].\"\n",
    "- If they qualify for less, respond like: \"Hi [Name], unfortunately you don’t qualify for R[amount], but you do qualify for R[max_loan_amount].\"\n",
    "- If they don’t qualify, respond politely with: \"Hi [Name], unfortunately you are not eligible for a loan.\"\n",
    "\n",
    "Always speak directly to the user and use a polite, helpful tone.\n",
    "\"\"\"\n"
   ]
  },
  {
   "cell_type": "markdown",
   "id": "7823171a",
   "metadata": {},
   "source": [
    "# Routing agent"
   ]
  },
  {
   "cell_type": "code",
   "execution_count": 117,
   "id": "852f69bf",
   "metadata": {},
   "outputs": [
    {
     "name": "stdout",
     "output_type": "stream",
     "text": [
      "Requirement already satisfied: sqlalchemy in /Users/mahlatsemotsamai/opt/anaconda3/lib/python3.8/site-packages (1.4.47)\n",
      "Collecting sqlalchemy\n",
      "  Downloading sqlalchemy-2.0.41-cp38-cp38-macosx_10_9_x86_64.whl (2.1 MB)\n",
      "\u001b[K     |████████████████████████████████| 2.1 MB 10.1 MB/s eta 0:00:01\n",
      "\u001b[?25hRequirement already satisfied: greenlet>=1 in /Users/mahlatsemotsamai/opt/anaconda3/lib/python3.8/site-packages (from sqlalchemy) (1.0.0)\n",
      "Requirement already satisfied: typing-extensions>=4.6.0 in /Users/mahlatsemotsamai/opt/anaconda3/lib/python3.8/site-packages (from sqlalchemy) (4.12.2)\n",
      "Installing collected packages: sqlalchemy\n",
      "  Attempting uninstall: sqlalchemy\n",
      "    Found existing installation: SQLAlchemy 1.4.47\n",
      "    Uninstalling SQLAlchemy-1.4.47:\n",
      "      Successfully uninstalled SQLAlchemy-1.4.47\n",
      "Successfully installed sqlalchemy-2.0.41\n",
      "Note: you may need to restart the kernel to use updated packages.\n"
     ]
    }
   ],
   "source": [
    "pip install --upgrade sqlalchemy\n"
   ]
  },
  {
   "cell_type": "code",
   "execution_count": 118,
   "id": "44fb9e99",
   "metadata": {},
   "outputs": [
    {
     "ename": "ImportError",
     "evalue": "cannot import name 'Result' from 'sqlalchemy' (/Users/mahlatsemotsamai/opt/anaconda3/lib/python3.8/site-packages/sqlalchemy/__init__.py)",
     "output_type": "error",
     "traceback": [
      "\u001b[0;31m---------------------------------------------------------------------------\u001b[0m",
      "\u001b[0;31mImportError\u001b[0m                               Traceback (most recent call last)",
      "\u001b[0;32m<ipython-input-118-b309cd2fd11a>\u001b[0m in \u001b[0;36m<module>\u001b[0;34m\u001b[0m\n\u001b[0;32m----> 1\u001b[0;31m \u001b[0;32mfrom\u001b[0m \u001b[0mcrewai\u001b[0m \u001b[0;32mimport\u001b[0m \u001b[0mAgent\u001b[0m\u001b[0;34m,\u001b[0m \u001b[0mCrew\u001b[0m\u001b[0;34m\u001b[0m\u001b[0;34m\u001b[0m\u001b[0m\n\u001b[0m",
      "\u001b[0;32m~/opt/anaconda3/lib/python3.8/site-packages/crewai/__init__.py\u001b[0m in \u001b[0;36m<module>\u001b[0;34m\u001b[0m\n\u001b[0;32m----> 1\u001b[0;31m \u001b[0;32mfrom\u001b[0m \u001b[0;34m.\u001b[0m\u001b[0mtask\u001b[0m \u001b[0;32mimport\u001b[0m \u001b[0mTask\u001b[0m\u001b[0;34m\u001b[0m\u001b[0;34m\u001b[0m\u001b[0m\n\u001b[0m\u001b[1;32m      2\u001b[0m \u001b[0;32mfrom\u001b[0m \u001b[0;34m.\u001b[0m\u001b[0mcrew\u001b[0m \u001b[0;32mimport\u001b[0m \u001b[0mCrew\u001b[0m\u001b[0;34m\u001b[0m\u001b[0;34m\u001b[0m\u001b[0m\n\u001b[1;32m      3\u001b[0m \u001b[0;32mfrom\u001b[0m \u001b[0;34m.\u001b[0m\u001b[0magent\u001b[0m \u001b[0;32mimport\u001b[0m \u001b[0mAgent\u001b[0m\u001b[0;34m\u001b[0m\u001b[0;34m\u001b[0m\u001b[0m\n\u001b[1;32m      4\u001b[0m \u001b[0;32mfrom\u001b[0m \u001b[0;34m.\u001b[0m\u001b[0mprocess\u001b[0m \u001b[0;32mimport\u001b[0m \u001b[0mProcess\u001b[0m\u001b[0;34m\u001b[0m\u001b[0;34m\u001b[0m\u001b[0m\n",
      "\u001b[0;32m~/opt/anaconda3/lib/python3.8/site-packages/crewai/task.py\u001b[0m in \u001b[0;36m<module>\u001b[0;34m\u001b[0m\n\u001b[1;32m      4\u001b[0m \u001b[0;32mfrom\u001b[0m \u001b[0mlangchain\u001b[0m\u001b[0;34m.\u001b[0m\u001b[0mtools\u001b[0m \u001b[0;32mimport\u001b[0m \u001b[0mTool\u001b[0m\u001b[0;34m\u001b[0m\u001b[0;34m\u001b[0m\u001b[0m\n\u001b[1;32m      5\u001b[0m \u001b[0;34m\u001b[0m\u001b[0m\n\u001b[0;32m----> 6\u001b[0;31m \u001b[0;32mfrom\u001b[0m \u001b[0;34m.\u001b[0m\u001b[0magent\u001b[0m \u001b[0;32mimport\u001b[0m \u001b[0mAgent\u001b[0m\u001b[0;34m\u001b[0m\u001b[0;34m\u001b[0m\u001b[0m\n\u001b[0m\u001b[1;32m      7\u001b[0m \u001b[0;34m\u001b[0m\u001b[0m\n\u001b[1;32m      8\u001b[0m \u001b[0;32mclass\u001b[0m \u001b[0mTask\u001b[0m\u001b[0;34m(\u001b[0m\u001b[0mBaseModel\u001b[0m\u001b[0;34m)\u001b[0m\u001b[0;34m:\u001b[0m\u001b[0;34m\u001b[0m\u001b[0;34m\u001b[0m\u001b[0m\n",
      "\u001b[0;32m~/opt/anaconda3/lib/python3.8/site-packages/crewai/agent.py\u001b[0m in \u001b[0;36m<module>\u001b[0;34m\u001b[0m\n\u001b[1;32m      4\u001b[0m \u001b[0;32mfrom\u001b[0m \u001b[0mpydantic\u001b[0m\u001b[0;34m.\u001b[0m\u001b[0mv1\u001b[0m \u001b[0;32mimport\u001b[0m \u001b[0mBaseModel\u001b[0m\u001b[0;34m,\u001b[0m \u001b[0mField\u001b[0m\u001b[0;34m,\u001b[0m \u001b[0mroot_validator\u001b[0m\u001b[0;34m\u001b[0m\u001b[0;34m\u001b[0m\u001b[0m\n\u001b[1;32m      5\u001b[0m \u001b[0;34m\u001b[0m\u001b[0m\n\u001b[0;32m----> 6\u001b[0;31m \u001b[0;32mfrom\u001b[0m \u001b[0mlangchain\u001b[0m\u001b[0;34m.\u001b[0m\u001b[0magents\u001b[0m \u001b[0;32mimport\u001b[0m \u001b[0mAgentExecutor\u001b[0m\u001b[0;34m\u001b[0m\u001b[0;34m\u001b[0m\u001b[0m\n\u001b[0m\u001b[1;32m      7\u001b[0m \u001b[0;32mfrom\u001b[0m \u001b[0mlangchain\u001b[0m\u001b[0;34m.\u001b[0m\u001b[0mchat_models\u001b[0m \u001b[0;32mimport\u001b[0m \u001b[0mChatOpenAI\u001b[0m \u001b[0;32mas\u001b[0m \u001b[0mOpenAI\u001b[0m\u001b[0;34m\u001b[0m\u001b[0;34m\u001b[0m\u001b[0m\n\u001b[1;32m      8\u001b[0m \u001b[0;32mfrom\u001b[0m \u001b[0mlangchain\u001b[0m\u001b[0;34m.\u001b[0m\u001b[0mtools\u001b[0m\u001b[0;34m.\u001b[0m\u001b[0mrender\u001b[0m \u001b[0;32mimport\u001b[0m \u001b[0mrender_text_description\u001b[0m\u001b[0;34m\u001b[0m\u001b[0;34m\u001b[0m\u001b[0m\n",
      "\u001b[0;32m~/opt/anaconda3/lib/python3.8/site-packages/langchain/agents/__init__.py\u001b[0m in \u001b[0;36m<module>\u001b[0;34m\u001b[0m\n\u001b[1;32m     43\u001b[0m )\n\u001b[1;32m     44\u001b[0m \u001b[0;32mfrom\u001b[0m \u001b[0mlangchain\u001b[0m\u001b[0;34m.\u001b[0m\u001b[0magents\u001b[0m\u001b[0;34m.\u001b[0m\u001b[0magent_iterator\u001b[0m \u001b[0;32mimport\u001b[0m \u001b[0mAgentExecutorIterator\u001b[0m\u001b[0;34m\u001b[0m\u001b[0;34m\u001b[0m\u001b[0m\n\u001b[0;32m---> 45\u001b[0;31m from langchain.agents.agent_toolkits import (\n\u001b[0m\u001b[1;32m     46\u001b[0m     \u001b[0mcreate_json_agent\u001b[0m\u001b[0;34m,\u001b[0m\u001b[0;34m\u001b[0m\u001b[0;34m\u001b[0m\u001b[0m\n\u001b[1;32m     47\u001b[0m     \u001b[0mcreate_openapi_agent\u001b[0m\u001b[0;34m,\u001b[0m\u001b[0;34m\u001b[0m\u001b[0;34m\u001b[0m\u001b[0m\n",
      "\u001b[0;32m~/opt/anaconda3/lib/python3.8/site-packages/langchain/agents/agent_toolkits/__init__.py\u001b[0m in \u001b[0;36m<module>\u001b[0;34m\u001b[0m\n\u001b[1;32m     19\u001b[0m \u001b[0;32mfrom\u001b[0m \u001b[0mlangchain_core\u001b[0m\u001b[0;34m.\u001b[0m\u001b[0m_api\u001b[0m\u001b[0;34m.\u001b[0m\u001b[0mpath\u001b[0m \u001b[0;32mimport\u001b[0m \u001b[0mas_import_path\u001b[0m\u001b[0;34m\u001b[0m\u001b[0;34m\u001b[0m\u001b[0m\n\u001b[1;32m     20\u001b[0m \u001b[0;34m\u001b[0m\u001b[0m\n\u001b[0;32m---> 21\u001b[0;31m \u001b[0;32mfrom\u001b[0m \u001b[0mlangchain\u001b[0m\u001b[0;34m.\u001b[0m\u001b[0magents\u001b[0m\u001b[0;34m.\u001b[0m\u001b[0magent_toolkits\u001b[0m\u001b[0;34m.\u001b[0m\u001b[0mainetwork\u001b[0m\u001b[0;34m.\u001b[0m\u001b[0mtoolkit\u001b[0m \u001b[0;32mimport\u001b[0m \u001b[0mAINetworkToolkit\u001b[0m\u001b[0;34m\u001b[0m\u001b[0;34m\u001b[0m\u001b[0m\n\u001b[0m\u001b[1;32m     22\u001b[0m \u001b[0;32mfrom\u001b[0m \u001b[0mlangchain\u001b[0m\u001b[0;34m.\u001b[0m\u001b[0magents\u001b[0m\u001b[0;34m.\u001b[0m\u001b[0magent_toolkits\u001b[0m\u001b[0;34m.\u001b[0m\u001b[0mamadeus\u001b[0m\u001b[0;34m.\u001b[0m\u001b[0mtoolkit\u001b[0m \u001b[0;32mimport\u001b[0m \u001b[0mAmadeusToolkit\u001b[0m\u001b[0;34m\u001b[0m\u001b[0;34m\u001b[0m\u001b[0m\n\u001b[1;32m     23\u001b[0m from langchain.agents.agent_toolkits.azure_cognitive_services import (\n",
      "\u001b[0;32m~/opt/anaconda3/lib/python3.8/site-packages/langchain/agents/agent_toolkits/ainetwork/toolkit.py\u001b[0m in \u001b[0;36m<module>\u001b[0;34m\u001b[0m\n\u001b[0;32m----> 1\u001b[0;31m \u001b[0;32mfrom\u001b[0m \u001b[0mlangchain_community\u001b[0m\u001b[0;34m.\u001b[0m\u001b[0magent_toolkits\u001b[0m\u001b[0;34m.\u001b[0m\u001b[0mainetwork\u001b[0m\u001b[0;34m.\u001b[0m\u001b[0mtoolkit\u001b[0m \u001b[0;32mimport\u001b[0m \u001b[0mAINetworkToolkit\u001b[0m\u001b[0;34m\u001b[0m\u001b[0;34m\u001b[0m\u001b[0m\n\u001b[0m\u001b[1;32m      2\u001b[0m \u001b[0;34m\u001b[0m\u001b[0m\n\u001b[1;32m      3\u001b[0m \u001b[0m__all__\u001b[0m \u001b[0;34m=\u001b[0m \u001b[0;34m[\u001b[0m\u001b[0;34m\"AINetworkToolkit\"\u001b[0m\u001b[0;34m]\u001b[0m\u001b[0;34m\u001b[0m\u001b[0;34m\u001b[0m\u001b[0m\n",
      "\u001b[0;32m~/opt/anaconda3/lib/python3.8/site-packages/langchain_community/agent_toolkits/__init__.py\u001b[0m in \u001b[0;36m<module>\u001b[0;34m\u001b[0m\n\u001b[1;32m     43\u001b[0m \u001b[0;32mfrom\u001b[0m \u001b[0mlangchain_community\u001b[0m\u001b[0;34m.\u001b[0m\u001b[0magent_toolkits\u001b[0m\u001b[0;34m.\u001b[0m\u001b[0mspark_sql\u001b[0m\u001b[0;34m.\u001b[0m\u001b[0mbase\u001b[0m \u001b[0;32mimport\u001b[0m \u001b[0mcreate_spark_sql_agent\u001b[0m\u001b[0;34m\u001b[0m\u001b[0;34m\u001b[0m\u001b[0m\n\u001b[1;32m     44\u001b[0m \u001b[0;32mfrom\u001b[0m \u001b[0mlangchain_community\u001b[0m\u001b[0;34m.\u001b[0m\u001b[0magent_toolkits\u001b[0m\u001b[0;34m.\u001b[0m\u001b[0mspark_sql\u001b[0m\u001b[0;34m.\u001b[0m\u001b[0mtoolkit\u001b[0m \u001b[0;32mimport\u001b[0m \u001b[0mSparkSQLToolkit\u001b[0m\u001b[0;34m\u001b[0m\u001b[0;34m\u001b[0m\u001b[0m\n\u001b[0;32m---> 45\u001b[0;31m \u001b[0;32mfrom\u001b[0m \u001b[0mlangchain_community\u001b[0m\u001b[0;34m.\u001b[0m\u001b[0magent_toolkits\u001b[0m\u001b[0;34m.\u001b[0m\u001b[0msql\u001b[0m\u001b[0;34m.\u001b[0m\u001b[0mbase\u001b[0m \u001b[0;32mimport\u001b[0m \u001b[0mcreate_sql_agent\u001b[0m\u001b[0;34m\u001b[0m\u001b[0;34m\u001b[0m\u001b[0m\n\u001b[0m\u001b[1;32m     46\u001b[0m \u001b[0;32mfrom\u001b[0m \u001b[0mlangchain_community\u001b[0m\u001b[0;34m.\u001b[0m\u001b[0magent_toolkits\u001b[0m\u001b[0;34m.\u001b[0m\u001b[0msql\u001b[0m\u001b[0;34m.\u001b[0m\u001b[0mtoolkit\u001b[0m \u001b[0;32mimport\u001b[0m \u001b[0mSQLDatabaseToolkit\u001b[0m\u001b[0;34m\u001b[0m\u001b[0;34m\u001b[0m\u001b[0m\n\u001b[1;32m     47\u001b[0m \u001b[0;32mfrom\u001b[0m \u001b[0mlangchain_community\u001b[0m\u001b[0;34m.\u001b[0m\u001b[0magent_toolkits\u001b[0m\u001b[0;34m.\u001b[0m\u001b[0msteam\u001b[0m\u001b[0;34m.\u001b[0m\u001b[0mtoolkit\u001b[0m \u001b[0;32mimport\u001b[0m \u001b[0mSteamToolkit\u001b[0m\u001b[0;34m\u001b[0m\u001b[0;34m\u001b[0m\u001b[0m\n",
      "\u001b[0;32m~/opt/anaconda3/lib/python3.8/site-packages/langchain_community/agent_toolkits/sql/base.py\u001b[0m in \u001b[0;36m<module>\u001b[0;34m\u001b[0m\n\u001b[1;32m     27\u001b[0m     \u001b[0mSQL_PREFIX\u001b[0m\u001b[0;34m,\u001b[0m\u001b[0;34m\u001b[0m\u001b[0;34m\u001b[0m\u001b[0m\n\u001b[1;32m     28\u001b[0m )\n\u001b[0;32m---> 29\u001b[0;31m \u001b[0;32mfrom\u001b[0m \u001b[0mlangchain_community\u001b[0m\u001b[0;34m.\u001b[0m\u001b[0magent_toolkits\u001b[0m\u001b[0;34m.\u001b[0m\u001b[0msql\u001b[0m\u001b[0;34m.\u001b[0m\u001b[0mtoolkit\u001b[0m \u001b[0;32mimport\u001b[0m \u001b[0mSQLDatabaseToolkit\u001b[0m\u001b[0;34m\u001b[0m\u001b[0;34m\u001b[0m\u001b[0m\n\u001b[0m\u001b[1;32m     30\u001b[0m from langchain_community.tools.sql_database.tool import (\n\u001b[1;32m     31\u001b[0m     \u001b[0mInfoSQLDatabaseTool\u001b[0m\u001b[0;34m,\u001b[0m\u001b[0;34m\u001b[0m\u001b[0;34m\u001b[0m\u001b[0m\n",
      "\u001b[0;32m~/opt/anaconda3/lib/python3.8/site-packages/langchain_community/agent_toolkits/sql/toolkit.py\u001b[0m in \u001b[0;36m<module>\u001b[0;34m\u001b[0m\n\u001b[1;32m      7\u001b[0m \u001b[0;32mfrom\u001b[0m \u001b[0mlangchain_community\u001b[0m\u001b[0;34m.\u001b[0m\u001b[0magent_toolkits\u001b[0m\u001b[0;34m.\u001b[0m\u001b[0mbase\u001b[0m \u001b[0;32mimport\u001b[0m \u001b[0mBaseToolkit\u001b[0m\u001b[0;34m\u001b[0m\u001b[0;34m\u001b[0m\u001b[0m\n\u001b[1;32m      8\u001b[0m \u001b[0;32mfrom\u001b[0m \u001b[0mlangchain_community\u001b[0m\u001b[0;34m.\u001b[0m\u001b[0mtools\u001b[0m \u001b[0;32mimport\u001b[0m \u001b[0mBaseTool\u001b[0m\u001b[0;34m\u001b[0m\u001b[0;34m\u001b[0m\u001b[0m\n\u001b[0;32m----> 9\u001b[0;31m from langchain_community.tools.sql_database.tool import (\n\u001b[0m\u001b[1;32m     10\u001b[0m     \u001b[0mInfoSQLDatabaseTool\u001b[0m\u001b[0;34m,\u001b[0m\u001b[0;34m\u001b[0m\u001b[0;34m\u001b[0m\u001b[0m\n\u001b[1;32m     11\u001b[0m     \u001b[0mListSQLDatabaseTool\u001b[0m\u001b[0;34m,\u001b[0m\u001b[0;34m\u001b[0m\u001b[0;34m\u001b[0m\u001b[0m\n",
      "\u001b[0;32m~/opt/anaconda3/lib/python3.8/site-packages/langchain_community/tools/sql_database/tool.py\u001b[0m in \u001b[0;36m<module>\u001b[0;34m\u001b[0m\n\u001b[1;32m      3\u001b[0m \u001b[0;32mfrom\u001b[0m \u001b[0mtyping\u001b[0m \u001b[0;32mimport\u001b[0m \u001b[0mAny\u001b[0m\u001b[0;34m,\u001b[0m \u001b[0mDict\u001b[0m\u001b[0;34m,\u001b[0m \u001b[0mOptional\u001b[0m\u001b[0;34m,\u001b[0m \u001b[0mSequence\u001b[0m\u001b[0;34m,\u001b[0m \u001b[0mType\u001b[0m\u001b[0;34m,\u001b[0m \u001b[0mUnion\u001b[0m\u001b[0;34m\u001b[0m\u001b[0;34m\u001b[0m\u001b[0m\n\u001b[1;32m      4\u001b[0m \u001b[0;34m\u001b[0m\u001b[0m\n\u001b[0;32m----> 5\u001b[0;31m \u001b[0;32mfrom\u001b[0m \u001b[0msqlalchemy\u001b[0m \u001b[0;32mimport\u001b[0m \u001b[0mResult\u001b[0m\u001b[0;34m\u001b[0m\u001b[0;34m\u001b[0m\u001b[0m\n\u001b[0m\u001b[1;32m      6\u001b[0m \u001b[0;34m\u001b[0m\u001b[0m\n\u001b[1;32m      7\u001b[0m \u001b[0;32mfrom\u001b[0m \u001b[0mlangchain_core\u001b[0m\u001b[0;34m.\u001b[0m\u001b[0mpydantic_v1\u001b[0m \u001b[0;32mimport\u001b[0m \u001b[0mBaseModel\u001b[0m\u001b[0;34m,\u001b[0m \u001b[0mField\u001b[0m\u001b[0;34m,\u001b[0m \u001b[0mroot_validator\u001b[0m\u001b[0;34m\u001b[0m\u001b[0;34m\u001b[0m\u001b[0m\n",
      "\u001b[0;31mImportError\u001b[0m: cannot import name 'Result' from 'sqlalchemy' (/Users/mahlatsemotsamai/opt/anaconda3/lib/python3.8/site-packages/sqlalchemy/__init__.py)"
     ]
    }
   ],
   "source": [
    "from crewai import Agent, Crew\n"
   ]
  },
  {
   "cell_type": "code",
   "execution_count": null,
   "id": "b3af5cfb",
   "metadata": {},
   "outputs": [],
   "source": [
    "\n",
    "# Define agents\n",
    "router = Agent(name=\"Router\", role=\"Routing Agent\", goal=\"Decide which agent to use\", tools=[], ...)\n",
    "balance_agent = Agent(name=\"Balance Agent\", role=\"Balance Checker\", goal=\"Return user balance\", tools=[balance_tool], ...)\n",
    "loan_agent = Agent(name=\"Loan Agent\", role=\"Loan Processor\", goal=\"Help user apply for loan\", tools=[loan_tool], ...)\n",
    "\n",
    "# Define crew with the router as entry point\n",
    "crew = Crew(\n",
    "    agents=[router, balance_agent, loan_agent],\n",
    "    entry_point=router\n",
    ")\n",
    "\n",
    "# Kick off the crew\n",
    "crew.run(\"Hi, I'd like to apply for a loan\")\n"
   ]
  },
  {
   "cell_type": "markdown",
   "id": "7eb78c35",
   "metadata": {},
   "source": [
    "# Chatting with model"
   ]
  },
  {
   "cell_type": "code",
   "execution_count": 112,
   "id": "286cab69",
   "metadata": {},
   "outputs": [],
   "source": [
    "def chat_with_openai(user_query):\n",
    "    \n",
    "    response = client.responses.create(\n",
    "            model=\"gpt-4o-mini\",\n",
    "            input = user_query,\n",
    "            \n",
    "            instructions = combined_prompt,\n",
    "            tools=function_descriptions\n",
    "            )\n",
    "\n",
    "    return response,response.output"
   ]
  },
  {
   "cell_type": "code",
   "execution_count": 113,
   "id": "d3d44a21",
   "metadata": {},
   "outputs": [],
   "source": [
    "def chat_balance():\n",
    "    \n",
    "    print(\" Welcome! How can I help you Today? Type 'exit' to end the chat.\\n\")\n",
    "\n",
    "\n",
    "    while True:\n",
    "        \n",
    "        user_query = input(\"You: \")\n",
    "        \n",
    "        messages = [{\"role\": \"user\", \"content\": user_query}]\n",
    "\n",
    "        response, output = chat_with_openai(user_query)\n",
    "        print(f\"bot: {response.output_text}\")\n",
    "        \n",
    "        tool_call = response.output[0]\n",
    "        tool_call_list = list(response.output[0])\n",
    "        tool_call_dict = dict(tool_call_list)\n",
    "        arguments_str = tool_call_dict.get(\"arguments\")\n",
    "        call_id = tool_call_dict.get(\"call_id\")\n",
    "\n",
    "        if arguments_str:\n",
    "            args = json.loads(arguments_str)\n",
    "#             print(f\"Parsed arguments: {args}\")\n",
    "        else:\n",
    "            continue  \n",
    "     \n",
    "        customer_id = args['customer_id']\n",
    "        \n",
    "        function_results = get_balance(customer_id)\n",
    "        \n",
    "        # append model's function call message\n",
    "        messages.append(tool_call_dict)\n",
    "        \n",
    "        \n",
    "        # append result message\n",
    "        messages.append({                             \n",
    "            \"type\": \"function_call_output\",\n",
    "            \"call_id\": call_id,\n",
    "            \"output\": str(function_results)\n",
    "        })\n",
    "        \n",
    "\n",
    "        response_2 = client.responses.create(\n",
    "            model=\"gpt-4o-mini\",\n",
    "            input=messages,\n",
    "            tools=function_descriptions,\n",
    "        )\n",
    "        print(response_2.output_text)\n",
    "        \n",
    "        \n"
   ]
  },
  {
   "cell_type": "markdown",
   "id": "572901ee",
   "metadata": {},
   "source": [
    "# Calling Chatbot"
   ]
  },
  {
   "cell_type": "code",
   "execution_count": 76,
   "id": "4acb7cde",
   "metadata": {},
   "outputs": [
    {
     "data": {
      "text/plain": [
       "['bd9c5311-c8f8-441d-b205-e68fb7aa7293',\n",
       " '4f8667b3-f381-44c4-8f3c-2a0718248284',\n",
       " 'a217997d-21c3-4716-ac19-5d5c9950c260',\n",
       " 'b2ad5dfb-e86e-460d-9f98-3351c040e02f',\n",
       " '9e5d54aa-168e-4347-8514-9ec8d1d5a470']"
      ]
     },
     "execution_count": 76,
     "metadata": {},
     "output_type": "execute_result"
    }
   ],
   "source": [
    "list(df_customers.id)[0:5]"
   ]
  },
  {
   "cell_type": "code",
   "execution_count": 114,
   "id": "373f8b65",
   "metadata": {},
   "outputs": [
    {
     "name": "stdout",
     "output_type": "stream",
     "text": [
      " Welcome! How can I help you Today? Type 'exit' to end the chat.\n",
      "\n",
      "You: hi what is my balance\n",
      "bot: Could you please provide me with your customer ID?\n",
      "You: bd9c5311-c8f8-441d-b205-e68fb7aa7293\n",
      "bot: It seems you've provided a customer ID. How can I assist you today? Would you like to check your account balance or apply for a loan?\n",
      "You: account balance please\n",
      "bot: Could you please provide me with your customer ID?\n",
      "You: bd9c5311-c8f8-441d-b205-e68fb7aa7293\n",
      "bot: Could you please let me know how much you would like to borrow?\n",
      "You: 2000\n",
      "bot: Please provide your customer ID so I can check your account balance.\n",
      "You: bd9c5311-c8f8-441d-b205-e68fb7aa7293\n",
      "bot: Could you please let me know what you would like to do? You can either check your account balance or apply for a loan.\n"
     ]
    },
    {
     "ename": "KeyboardInterrupt",
     "evalue": "Interrupted by user",
     "output_type": "error",
     "traceback": [
      "\u001b[0;31m---------------------------------------------------------------------------\u001b[0m",
      "\u001b[0;31mKeyboardInterrupt\u001b[0m                         Traceback (most recent call last)",
      "\u001b[0;32m<ipython-input-114-d47afe905fe8>\u001b[0m in \u001b[0;36m<module>\u001b[0;34m\u001b[0m\n\u001b[0;32m----> 1\u001b[0;31m \u001b[0mchat_balance\u001b[0m\u001b[0;34m(\u001b[0m\u001b[0;34m)\u001b[0m\u001b[0;34m\u001b[0m\u001b[0;34m\u001b[0m\u001b[0m\n\u001b[0m",
      "\u001b[0;32m<ipython-input-113-faadcf87f731>\u001b[0m in \u001b[0;36mchat_balance\u001b[0;34m()\u001b[0m\n\u001b[1;32m      6\u001b[0m     \u001b[0;32mwhile\u001b[0m \u001b[0;32mTrue\u001b[0m\u001b[0;34m:\u001b[0m\u001b[0;34m\u001b[0m\u001b[0;34m\u001b[0m\u001b[0m\n\u001b[1;32m      7\u001b[0m \u001b[0;34m\u001b[0m\u001b[0m\n\u001b[0;32m----> 8\u001b[0;31m         \u001b[0muser_query\u001b[0m \u001b[0;34m=\u001b[0m \u001b[0minput\u001b[0m\u001b[0;34m(\u001b[0m\u001b[0;34m\"You: \"\u001b[0m\u001b[0;34m)\u001b[0m\u001b[0;34m\u001b[0m\u001b[0;34m\u001b[0m\u001b[0m\n\u001b[0m\u001b[1;32m      9\u001b[0m \u001b[0;34m\u001b[0m\u001b[0m\n\u001b[1;32m     10\u001b[0m         \u001b[0mmessages\u001b[0m \u001b[0;34m=\u001b[0m \u001b[0;34m[\u001b[0m\u001b[0;34m{\u001b[0m\u001b[0;34m\"role\"\u001b[0m\u001b[0;34m:\u001b[0m \u001b[0;34m\"user\"\u001b[0m\u001b[0;34m,\u001b[0m \u001b[0;34m\"content\"\u001b[0m\u001b[0;34m:\u001b[0m \u001b[0muser_query\u001b[0m\u001b[0;34m}\u001b[0m\u001b[0;34m]\u001b[0m\u001b[0;34m\u001b[0m\u001b[0;34m\u001b[0m\u001b[0m\n",
      "\u001b[0;32m~/opt/anaconda3/lib/python3.8/site-packages/ipykernel/kernelbase.py\u001b[0m in \u001b[0;36mraw_input\u001b[0;34m(self, prompt)\u001b[0m\n\u001b[1;32m    858\u001b[0m                 \u001b[0;34m\"raw_input was called, but this frontend does not support input requests.\"\u001b[0m\u001b[0;34m\u001b[0m\u001b[0;34m\u001b[0m\u001b[0m\n\u001b[1;32m    859\u001b[0m             )\n\u001b[0;32m--> 860\u001b[0;31m         return self._input_request(str(prompt),\n\u001b[0m\u001b[1;32m    861\u001b[0m             \u001b[0mself\u001b[0m\u001b[0;34m.\u001b[0m\u001b[0m_parent_ident\u001b[0m\u001b[0;34m,\u001b[0m\u001b[0;34m\u001b[0m\u001b[0;34m\u001b[0m\u001b[0m\n\u001b[1;32m    862\u001b[0m             \u001b[0mself\u001b[0m\u001b[0;34m.\u001b[0m\u001b[0m_parent_header\u001b[0m\u001b[0;34m,\u001b[0m\u001b[0;34m\u001b[0m\u001b[0;34m\u001b[0m\u001b[0m\n",
      "\u001b[0;32m~/opt/anaconda3/lib/python3.8/site-packages/ipykernel/kernelbase.py\u001b[0m in \u001b[0;36m_input_request\u001b[0;34m(self, prompt, ident, parent, password)\u001b[0m\n\u001b[1;32m    902\u001b[0m             \u001b[0;32mexcept\u001b[0m \u001b[0mKeyboardInterrupt\u001b[0m\u001b[0;34m:\u001b[0m\u001b[0;34m\u001b[0m\u001b[0;34m\u001b[0m\u001b[0m\n\u001b[1;32m    903\u001b[0m                 \u001b[0;31m# re-raise KeyboardInterrupt, to truncate traceback\u001b[0m\u001b[0;34m\u001b[0m\u001b[0;34m\u001b[0m\u001b[0;34m\u001b[0m\u001b[0m\n\u001b[0;32m--> 904\u001b[0;31m                 \u001b[0;32mraise\u001b[0m \u001b[0mKeyboardInterrupt\u001b[0m\u001b[0;34m(\u001b[0m\u001b[0;34m\"Interrupted by user\"\u001b[0m\u001b[0;34m)\u001b[0m \u001b[0;32mfrom\u001b[0m \u001b[0;32mNone\u001b[0m\u001b[0;34m\u001b[0m\u001b[0;34m\u001b[0m\u001b[0m\n\u001b[0m\u001b[1;32m    905\u001b[0m             \u001b[0;32mexcept\u001b[0m \u001b[0mException\u001b[0m \u001b[0;32mas\u001b[0m \u001b[0me\u001b[0m\u001b[0;34m:\u001b[0m\u001b[0;34m\u001b[0m\u001b[0;34m\u001b[0m\u001b[0m\n\u001b[1;32m    906\u001b[0m                 \u001b[0mself\u001b[0m\u001b[0;34m.\u001b[0m\u001b[0mlog\u001b[0m\u001b[0;34m.\u001b[0m\u001b[0mwarning\u001b[0m\u001b[0;34m(\u001b[0m\u001b[0;34m\"Invalid Message:\"\u001b[0m\u001b[0;34m,\u001b[0m \u001b[0mexc_info\u001b[0m\u001b[0;34m=\u001b[0m\u001b[0;32mTrue\u001b[0m\u001b[0;34m)\u001b[0m\u001b[0;34m\u001b[0m\u001b[0;34m\u001b[0m\u001b[0m\n",
      "\u001b[0;31mKeyboardInterrupt\u001b[0m: Interrupted by user"
     ]
    }
   ],
   "source": [
    "chat_balance()"
   ]
  },
  {
   "cell_type": "code",
   "execution_count": null,
   "id": "7badc1e8",
   "metadata": {},
   "outputs": [],
   "source": []
  }
 ],
 "metadata": {
  "kernelspec": {
   "display_name": "Python 3",
   "language": "python",
   "name": "python3"
  },
  "language_info": {
   "codemirror_mode": {
    "name": "ipython",
    "version": 3
   },
   "file_extension": ".py",
   "mimetype": "text/x-python",
   "name": "python",
   "nbconvert_exporter": "python",
   "pygments_lexer": "ipython3",
   "version": "3.8.8"
  }
 },
 "nbformat": 4,
 "nbformat_minor": 5
}
